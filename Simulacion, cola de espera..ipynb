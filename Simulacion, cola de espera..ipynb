{
 "cells": [
  {
   "cell_type": "markdown",
   "metadata": {},
   "source": [
    "## Leer los datos"
   ]
  },
  {
   "cell_type": "code",
<<<<<<< HEAD
   "execution_count": 1,
   "metadata": {},
   "outputs": [
    {
     "data": {
      "text/html": [
       "<div>\n",
       "<style>\n",
       "    .dataframe thead tr:only-child th {\n",
       "        text-align: right;\n",
       "    }\n",
       "\n",
       "    .dataframe thead th {\n",
       "        text-align: left;\n",
       "    }\n",
       "\n",
       "    .dataframe tbody tr th {\n",
       "        vertical-align: top;\n",
       "    }\n",
       "</style>\n",
       "<table border=\"1\" class=\"dataframe\">\n",
       "  <thead>\n",
       "    <tr style=\"text-align: right;\">\n",
       "      <th></th>\n",
       "      <th>Elapsed time</th>\n",
       "      <th>Lap</th>\n",
       "    </tr>\n",
       "  </thead>\n",
       "  <tbody>\n",
       "    <tr>\n",
       "      <th>0</th>\n",
       "      <td>02:07:56</td>\n",
       "      <td>00:01:25</td>\n",
       "    </tr>\n",
       "    <tr>\n",
       "      <th>1</th>\n",
       "      <td>02:06:30</td>\n",
       "      <td>00:01:23</td>\n",
       "    </tr>\n",
       "    <tr>\n",
       "      <th>2</th>\n",
       "      <td>02:05:06</td>\n",
       "      <td>00:00:18</td>\n",
       "    </tr>\n",
       "    <tr>\n",
       "      <th>3</th>\n",
       "      <td>02:04:48</td>\n",
       "      <td>00:01:06</td>\n",
       "    </tr>\n",
       "    <tr>\n",
       "      <th>4</th>\n",
       "      <td>02:03:42</td>\n",
       "      <td>00:00:32</td>\n",
       "    </tr>\n",
       "  </tbody>\n",
       "</table>\n",
       "</div>"
      ],
      "text/plain": [
       "  Elapsed time         Lap\n",
       "0     02:07:56  00:01:25  \n",
       "1     02:06:30  00:01:23  \n",
       "2     02:05:06  00:00:18  \n",
       "3     02:04:48  00:01:06  \n",
       "4     02:03:42  00:00:32  "
      ]
     },
     "execution_count": 1,
     "metadata": {},
     "output_type": "execute_result"
    }
   ],
   "source": [
    "import pandas as pd\n",
    "\n",
    "data = pd.read_csv('simulacion_oxxo.csv')\n",
    "\n",
    "data.head()"
   ]
  },
  {
   "cell_type": "markdown",
   "metadata": {},
   "source": [
    "## Dar formato a los minutos (e.g. 00:00:30 -> 0.5 minutos)"
   ]
  },
  {
   "cell_type": "code",
   "execution_count": 2,
   "metadata": {},
=======
   "execution_count": 162,
   "metadata": {
    "scrolled": true
   },
>>>>>>> 3a40ed6a2721fc05abd7e7016d235c3820451061
   "outputs": [
    {
     "data": {
      "text/html": [
       "<div>\n",
       "<style>\n",
       "    .dataframe thead tr:only-child th {\n",
       "        text-align: right;\n",
       "    }\n",
       "\n",
       "    .dataframe thead th {\n",
       "        text-align: left;\n",
       "    }\n",
       "\n",
       "    .dataframe tbody tr th {\n",
       "        vertical-align: top;\n",
       "    }\n",
       "</style>\n",
       "<table border=\"1\" class=\"dataframe\">\n",
       "  <thead>\n",
       "    <tr style=\"text-align: right;\">\n",
       "      <th></th>\n",
<<<<<<< HEAD
       "      <th>Elapsed time</th>\n",
       "      <th>Lap</th>\n",
=======
       "      <th>Lap</th>\n",
       "      <th>Elapsed Time</th>\n",
       "      <th>Lap Time</th>\n",
>>>>>>> 3a40ed6a2721fc05abd7e7016d235c3820451061
       "      <th>Minutes</th>\n",
       "    </tr>\n",
       "  </thead>\n",
       "  <tbody>\n",
       "    <tr>\n",
       "      <th>0</th>\n",
<<<<<<< HEAD
       "      <td>02:07:56</td>\n",
       "      <td>00:01:25</td>\n",
       "      <td>1.416667</td>\n",
       "    </tr>\n",
       "    <tr>\n",
       "      <th>1</th>\n",
       "      <td>02:06:30</td>\n",
       "      <td>00:01:23</td>\n",
       "      <td>1.383333</td>\n",
       "    </tr>\n",
       "    <tr>\n",
       "      <th>2</th>\n",
       "      <td>02:05:06</td>\n",
       "      <td>00:00:18</td>\n",
       "      <td>0.300000</td>\n",
       "    </tr>\n",
       "    <tr>\n",
       "      <th>3</th>\n",
       "      <td>02:04:48</td>\n",
       "      <td>00:01:06</td>\n",
       "      <td>1.100000</td>\n",
       "    </tr>\n",
       "    <tr>\n",
       "      <th>4</th>\n",
       "      <td>02:03:42</td>\n",
       "      <td>00:00:32</td>\n",
       "      <td>0.533333</td>\n",
=======
       "      <td>100</td>\n",
       "      <td>45:03.9</td>\n",
       "      <td>01:31.0</td>\n",
       "      <td>1.500</td>\n",
       "    </tr>\n",
       "    <tr>\n",
       "      <th>1</th>\n",
       "      <td>99</td>\n",
       "      <td>43:32.9</td>\n",
       "      <td>01:08.3</td>\n",
       "      <td>1.133</td>\n",
       "    </tr>\n",
       "    <tr>\n",
       "      <th>2</th>\n",
       "      <td>98</td>\n",
       "      <td>42:24.6</td>\n",
       "      <td>00:16.5</td>\n",
       "      <td>0.267</td>\n",
       "    </tr>\n",
       "    <tr>\n",
       "      <th>3</th>\n",
       "      <td>97</td>\n",
       "      <td>42:08.1</td>\n",
       "      <td>02:13.1</td>\n",
       "      <td>2.217</td>\n",
       "    </tr>\n",
       "    <tr>\n",
       "      <th>4</th>\n",
       "      <td>96</td>\n",
       "      <td>39:55.0</td>\n",
       "      <td>02:33.5</td>\n",
       "      <td>2.550</td>\n",
>>>>>>> 3a40ed6a2721fc05abd7e7016d235c3820451061
       "    </tr>\n",
       "  </tbody>\n",
       "</table>\n",
       "</div>"
      ],
      "text/plain": [
<<<<<<< HEAD
       "  Elapsed time         Lap   Minutes\n",
       "0     02:07:56  00:01:25    1.416667\n",
       "1     02:06:30  00:01:23    1.383333\n",
       "2     02:05:06  00:00:18    0.300000\n",
       "3     02:04:48  00:01:06    1.100000\n",
       "4     02:03:42  00:00:32    0.533333"
      ]
     },
     "execution_count": 2,
=======
       "   Lap Elapsed Time Lap Time  Minutes\n",
       "0  100      45:03.9  01:31.0    1.500\n",
       "1   99      43:32.9  01:08.3    1.133\n",
       "2   98      42:24.6  00:16.5    0.267\n",
       "3   97      42:08.1  02:13.1    2.217\n",
       "4   96      39:55.0  02:33.5    2.550"
      ]
     },
     "execution_count": 162,
>>>>>>> 3a40ed6a2721fc05abd7e7016d235c3820451061
     "metadata": {},
     "output_type": "execute_result"
    }
   ],
   "source": [
<<<<<<< HEAD
    "ftr = [3600,60,1]\n",
    "\n",
    "llegadas = []\n",
    "for entrada in data['Lap']:\n",
    "    llegadas.append(sum([a*b for a,b in zip(ftr, map(int,entrada.strip().split(':')))])/60)\n",
    "\n",
    "data['Minutes'] = llegadas\n",
=======
    "import pandas as pd\n",
    "\n",
    "data = pd.read_csv('simulacion.csv')\n",
    "\n",
>>>>>>> 3a40ed6a2721fc05abd7e7016d235c3820451061
    "data.head()"
   ]
  },
  {
   "cell_type": "markdown",
   "metadata": {},
   "source": [
    "## Histograma"
   ]
  },
  {
   "cell_type": "code",
<<<<<<< HEAD
   "execution_count": 13,
=======
   "execution_count": 163,
>>>>>>> 3a40ed6a2721fc05abd7e7016d235c3820451061
   "metadata": {},
   "outputs": [
    {
     "data": {
<<<<<<< HEAD
      "image/png": "iVBORw0KGgoAAAANSUhEUgAAAXQAAAD8CAYAAABn919SAAAABHNCSVQICAgIfAhkiAAAAAlwSFlz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\noEtSEwZdkpow6JLUxP8CjR7XBafP+D4AAAAASUVORK5CYII=\n",
      "text/plain": [
       "<matplotlib.figure.Figure at 0x16841f77198>"
=======
      "image/png": "iVBORw0KGgoAAAANSUhEUgAAAXQAAAD8CAYAAABn919SAAAABHNCSVQICAgIfAhkiAAAAAlwSFlz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\nHxIM+td1QnENAAAAAElFTkSuQmCC\n",
      "text/plain": [
       "<matplotlib.figure.Figure at 0x1da980973c8>"
>>>>>>> 3a40ed6a2721fc05abd7e7016d235c3820451061
      ]
     },
     "metadata": {},
     "output_type": "display_data"
    }
   ],
   "source": [
<<<<<<< HEAD
    "%matplotlib inline\n",
=======
>>>>>>> 3a40ed6a2721fc05abd7e7016d235c3820451061
    "import matplotlib.pyplot as plt\n",
    "\n",
    "freq, bins, _ = plt.hist(data['Minutes'], bins=7)"
   ]
  },
  {
   "cell_type": "markdown",
   "metadata": {},
   "source": [
    "## Media muestral"
   ]
  },
  {
   "cell_type": "code",
<<<<<<< HEAD
   "execution_count": 14,
=======
   "execution_count": 164,
>>>>>>> 3a40ed6a2721fc05abd7e7016d235c3820451061
   "metadata": {},
   "outputs": [
    {
     "data": {
      "text/plain": [
<<<<<<< HEAD
       "1.204833333333333"
      ]
     },
     "execution_count": 14,
=======
       "1.6430300000000009"
      ]
     },
     "execution_count": 164,
>>>>>>> 3a40ed6a2721fc05abd7e7016d235c3820451061
     "metadata": {},
     "output_type": "execute_result"
    }
   ],
   "source": [
    "data['Minutes'].mean()"
   ]
  },
  {
   "cell_type": "markdown",
   "metadata": {},
   "source": [
    "## Intervalos"
   ]
  },
  {
   "cell_type": "code",
<<<<<<< HEAD
   "execution_count": 5,
=======
   "execution_count": 165,
>>>>>>> 3a40ed6a2721fc05abd7e7016d235c3820451061
   "metadata": {},
   "outputs": [
    {
     "data": {
      "text/html": [
       "<div>\n",
       "<style>\n",
       "    .dataframe thead tr:only-child th {\n",
       "        text-align: right;\n",
       "    }\n",
       "\n",
       "    .dataframe thead th {\n",
       "        text-align: left;\n",
       "    }\n",
       "\n",
       "    .dataframe tbody tr th {\n",
       "        vertical-align: top;\n",
       "    }\n",
       "</style>\n",
       "<table border=\"1\" class=\"dataframe\">\n",
       "  <thead>\n",
       "    <tr style=\"text-align: right;\">\n",
       "      <th></th>\n",
       "      <th>Intervalos de llegada</th>\n",
       "    </tr>\n",
       "  </thead>\n",
       "  <tbody>\n",
       "    <tr>\n",
       "      <th>0</th>\n",
<<<<<<< HEAD
       "      <td>0.000 -  0.810</td>\n",
       "    </tr>\n",
       "    <tr>\n",
       "      <th>1</th>\n",
       "      <td>0.810 -  1.619</td>\n",
       "    </tr>\n",
       "    <tr>\n",
       "      <th>2</th>\n",
       "      <td>1.619 -  2.429</td>\n",
       "    </tr>\n",
       "    <tr>\n",
       "      <th>3</th>\n",
       "      <td>2.429 -  3.238</td>\n",
       "    </tr>\n",
       "    <tr>\n",
       "      <th>4</th>\n",
       "      <td>3.238 -  4.048</td>\n",
       "    </tr>\n",
       "    <tr>\n",
       "      <th>5</th>\n",
       "      <td>4.048 -  4.857</td>\n",
       "    </tr>\n",
       "    <tr>\n",
       "      <th>6</th>\n",
       "      <td>4.857 -  5.667</td>\n",
=======
       "      <td>0.117 -  0.807</td>\n",
       "    </tr>\n",
       "    <tr>\n",
       "      <th>1</th>\n",
       "      <td>0.807 -  1.498</td>\n",
       "    </tr>\n",
       "    <tr>\n",
       "      <th>2</th>\n",
       "      <td>1.498 -  2.188</td>\n",
       "    </tr>\n",
       "    <tr>\n",
       "      <th>3</th>\n",
       "      <td>2.188 -  2.879</td>\n",
       "    </tr>\n",
       "    <tr>\n",
       "      <th>4</th>\n",
       "      <td>2.879 -  3.569</td>\n",
       "    </tr>\n",
       "    <tr>\n",
       "      <th>5</th>\n",
       "      <td>3.569 -  4.260</td>\n",
       "    </tr>\n",
       "    <tr>\n",
       "      <th>6</th>\n",
       "      <td>4.260 -  4.950</td>\n",
>>>>>>> 3a40ed6a2721fc05abd7e7016d235c3820451061
       "    </tr>\n",
       "  </tbody>\n",
       "</table>\n",
       "</div>"
      ],
      "text/plain": [
       "  Intervalos de llegada\n",
<<<<<<< HEAD
       "0        0.000 -  0.810\n",
       "1        0.810 -  1.619\n",
       "2        1.619 -  2.429\n",
       "3        2.429 -  3.238\n",
       "4        3.238 -  4.048\n",
       "5        4.048 -  4.857\n",
       "6        4.857 -  5.667"
      ]
     },
     "execution_count": 5,
=======
       "0        0.117 -  0.807\n",
       "1        0.807 -  1.498\n",
       "2        1.498 -  2.188\n",
       "3        2.188 -  2.879\n",
       "4        2.879 -  3.569\n",
       "5        3.569 -  4.260\n",
       "6        4.260 -  4.950"
      ]
     },
     "execution_count": 165,
>>>>>>> 3a40ed6a2721fc05abd7e7016d235c3820451061
     "metadata": {},
     "output_type": "execute_result"
    }
   ],
   "source": [
    "tabla = pd.DataFrame()\n",
    "\n",
    "intervalos = []\n",
    "\n",
    "for i in range(1, 8):\n",
    "    int = '{0: > .3f} - {1: > .3f}'.format(bins[i-1], bins[i])\n",
    "    intervalos.append(int)\n",
    "    \n",
    "tabla['Intervalos de llegada'] = intervalos\n",
    "tabla"
   ]
  },
  {
   "cell_type": "markdown",
   "metadata": {},
   "source": [
    "## Frecuencia observada"
   ]
  },
  {
   "cell_type": "code",
<<<<<<< HEAD
   "execution_count": 6,
=======
   "execution_count": 166,
>>>>>>> 3a40ed6a2721fc05abd7e7016d235c3820451061
   "metadata": {},
   "outputs": [
    {
     "data": {
      "text/html": [
       "<div>\n",
       "<style>\n",
       "    .dataframe thead tr:only-child th {\n",
       "        text-align: right;\n",
       "    }\n",
       "\n",
       "    .dataframe thead th {\n",
       "        text-align: left;\n",
       "    }\n",
       "\n",
       "    .dataframe tbody tr th {\n",
       "        vertical-align: top;\n",
       "    }\n",
       "</style>\n",
       "<table border=\"1\" class=\"dataframe\">\n",
       "  <thead>\n",
       "    <tr style=\"text-align: right;\">\n",
       "      <th></th>\n",
       "      <th>Intervalos de llegada</th>\n",
       "      <th>Frecuencia observada</th>\n",
       "    </tr>\n",
       "  </thead>\n",
       "  <tbody>\n",
       "    <tr>\n",
       "      <th>0</th>\n",
<<<<<<< HEAD
       "      <td>0.000 -  0.810</td>\n",
       "      <td>49.0</td>\n",
       "    </tr>\n",
       "    <tr>\n",
       "      <th>1</th>\n",
       "      <td>0.810 -  1.619</td>\n",
=======
       "      <td>0.117 -  0.807</td>\n",
       "      <td>33.0</td>\n",
       "    </tr>\n",
       "    <tr>\n",
       "      <th>1</th>\n",
       "      <td>0.807 -  1.498</td>\n",
>>>>>>> 3a40ed6a2721fc05abd7e7016d235c3820451061
       "      <td>24.0</td>\n",
       "    </tr>\n",
       "    <tr>\n",
       "      <th>2</th>\n",
<<<<<<< HEAD
       "      <td>1.619 -  2.429</td>\n",
       "      <td>13.0</td>\n",
       "    </tr>\n",
       "    <tr>\n",
       "      <th>3</th>\n",
       "      <td>2.429 -  3.238</td>\n",
       "      <td>9.0</td>\n",
       "    </tr>\n",
       "    <tr>\n",
       "      <th>4</th>\n",
       "      <td>3.238 -  4.048</td>\n",
       "      <td>3.0</td>\n",
       "    </tr>\n",
       "    <tr>\n",
       "      <th>5</th>\n",
       "      <td>4.048 -  4.857</td>\n",
       "      <td>1.0</td>\n",
       "    </tr>\n",
       "    <tr>\n",
       "      <th>6</th>\n",
       "      <td>4.857 -  5.667</td>\n",
       "      <td>1.0</td>\n",
=======
       "      <td>1.498 -  2.188</td>\n",
       "      <td>9.0</td>\n",
       "    </tr>\n",
       "    <tr>\n",
       "      <th>3</th>\n",
       "      <td>2.188 -  2.879</td>\n",
       "      <td>17.0</td>\n",
       "    </tr>\n",
       "    <tr>\n",
       "      <th>4</th>\n",
       "      <td>2.879 -  3.569</td>\n",
       "      <td>5.0</td>\n",
       "    </tr>\n",
       "    <tr>\n",
       "      <th>5</th>\n",
       "      <td>3.569 -  4.260</td>\n",
       "      <td>9.0</td>\n",
       "    </tr>\n",
       "    <tr>\n",
       "      <th>6</th>\n",
       "      <td>4.260 -  4.950</td>\n",
       "      <td>3.0</td>\n",
>>>>>>> 3a40ed6a2721fc05abd7e7016d235c3820451061
       "    </tr>\n",
       "  </tbody>\n",
       "</table>\n",
       "</div>"
      ],
      "text/plain": [
       "  Intervalos de llegada  Frecuencia observada\n",
<<<<<<< HEAD
       "0        0.000 -  0.810                  49.0\n",
       "1        0.810 -  1.619                  24.0\n",
       "2        1.619 -  2.429                  13.0\n",
       "3        2.429 -  3.238                   9.0\n",
       "4        3.238 -  4.048                   3.0\n",
       "5        4.048 -  4.857                   1.0\n",
       "6        4.857 -  5.667                   1.0"
      ]
     },
     "execution_count": 6,
=======
       "0        0.117 -  0.807                  33.0\n",
       "1        0.807 -  1.498                  24.0\n",
       "2        1.498 -  2.188                   9.0\n",
       "3        2.188 -  2.879                  17.0\n",
       "4        2.879 -  3.569                   5.0\n",
       "5        3.569 -  4.260                   9.0\n",
       "6        4.260 -  4.950                   3.0"
      ]
     },
     "execution_count": 166,
>>>>>>> 3a40ed6a2721fc05abd7e7016d235c3820451061
     "metadata": {},
     "output_type": "execute_result"
    }
   ],
   "source": [
    "tabla['Frecuencia observada'] = freq\n",
    "tabla"
   ]
  },
  {
   "cell_type": "markdown",
   "metadata": {},
   "source": [
    "## Probabilidad de ocurrencia"
   ]
  },
  {
   "cell_type": "code",
<<<<<<< HEAD
   "execution_count": 7,
=======
   "execution_count": 167,
>>>>>>> 3a40ed6a2721fc05abd7e7016d235c3820451061
   "metadata": {},
   "outputs": [
    {
     "data": {
      "text/html": [
       "<div>\n",
       "<style>\n",
       "    .dataframe thead tr:only-child th {\n",
       "        text-align: right;\n",
       "    }\n",
       "\n",
       "    .dataframe thead th {\n",
       "        text-align: left;\n",
       "    }\n",
       "\n",
       "    .dataframe tbody tr th {\n",
       "        vertical-align: top;\n",
       "    }\n",
       "</style>\n",
       "<table border=\"1\" class=\"dataframe\">\n",
       "  <thead>\n",
       "    <tr style=\"text-align: right;\">\n",
       "      <th></th>\n",
       "      <th>Intervalos de llegada</th>\n",
       "      <th>Frecuencia observada</th>\n",
       "      <th>Probabilidad de ocurrencia</th>\n",
       "    </tr>\n",
       "  </thead>\n",
       "  <tbody>\n",
       "    <tr>\n",
       "      <th>0</th>\n",
<<<<<<< HEAD
       "      <td>0.000 -  0.810</td>\n",
       "      <td>49.0</td>\n",
       "      <td>0.5549</td>\n",
       "    </tr>\n",
       "    <tr>\n",
       "      <th>1</th>\n",
       "      <td>0.810 -  1.619</td>\n",
       "      <td>24.0</td>\n",
       "      <td>0.2470</td>\n",
       "    </tr>\n",
       "    <tr>\n",
       "      <th>2</th>\n",
       "      <td>1.619 -  2.429</td>\n",
       "      <td>13.0</td>\n",
       "      <td>0.1099</td>\n",
       "    </tr>\n",
       "    <tr>\n",
       "      <th>3</th>\n",
       "      <td>2.429 -  3.238</td>\n",
       "      <td>9.0</td>\n",
       "      <td>0.0489</td>\n",
       "    </tr>\n",
       "    <tr>\n",
       "      <th>4</th>\n",
       "      <td>3.238 -  4.048</td>\n",
       "      <td>3.0</td>\n",
       "      <td>0.0218</td>\n",
       "    </tr>\n",
       "    <tr>\n",
       "      <th>5</th>\n",
       "      <td>4.048 -  4.857</td>\n",
       "      <td>1.0</td>\n",
       "      <td>0.0097</td>\n",
       "    </tr>\n",
       "    <tr>\n",
       "      <th>6</th>\n",
       "      <td>4.857 -  5.667</td>\n",
       "      <td>1.0</td>\n",
       "      <td>0.0078</td>\n",
=======
       "      <td>0.117 -  0.807</td>\n",
       "      <td>33.0</td>\n",
       "      <td>0.4436</td>\n",
       "    </tr>\n",
       "    <tr>\n",
       "      <th>1</th>\n",
       "      <td>0.807 -  1.498</td>\n",
       "      <td>24.0</td>\n",
       "      <td>0.2224</td>\n",
       "    </tr>\n",
       "    <tr>\n",
       "      <th>2</th>\n",
       "      <td>1.498 -  2.188</td>\n",
       "      <td>9.0</td>\n",
       "      <td>0.1115</td>\n",
       "    </tr>\n",
       "    <tr>\n",
       "      <th>3</th>\n",
       "      <td>2.188 -  2.879</td>\n",
       "      <td>17.0</td>\n",
       "      <td>0.0559</td>\n",
       "    </tr>\n",
       "    <tr>\n",
       "      <th>4</th>\n",
       "      <td>2.879 -  3.569</td>\n",
       "      <td>5.0</td>\n",
       "      <td>0.0280</td>\n",
       "    </tr>\n",
       "    <tr>\n",
       "      <th>5</th>\n",
       "      <td>3.569 -  4.260</td>\n",
       "      <td>9.0</td>\n",
       "      <td>0.0141</td>\n",
       "    </tr>\n",
       "    <tr>\n",
       "      <th>6</th>\n",
       "      <td>4.260 -  4.950</td>\n",
       "      <td>3.0</td>\n",
       "      <td>0.1245</td>\n",
>>>>>>> 3a40ed6a2721fc05abd7e7016d235c3820451061
       "    </tr>\n",
       "  </tbody>\n",
       "</table>\n",
       "</div>"
      ],
      "text/plain": [
       "  Intervalos de llegada  Frecuencia observada  Probabilidad de ocurrencia\n",
<<<<<<< HEAD
       "0        0.000 -  0.810                  49.0                      0.5549\n",
       "1        0.810 -  1.619                  24.0                      0.2470\n",
       "2        1.619 -  2.429                  13.0                      0.1099\n",
       "3        2.429 -  3.238                   9.0                      0.0489\n",
       "4        3.238 -  4.048                   3.0                      0.0218\n",
       "5        4.048 -  4.857                   1.0                      0.0097\n",
       "6        4.857 -  5.667                   1.0                      0.0078"
      ]
     },
     "execution_count": 7,
=======
       "0        0.117 -  0.807                  33.0                      0.4436\n",
       "1        0.807 -  1.498                  24.0                      0.2224\n",
       "2        1.498 -  2.188                   9.0                      0.1115\n",
       "3        2.188 -  2.879                  17.0                      0.0559\n",
       "4        2.879 -  3.569                   5.0                      0.0280\n",
       "5        3.569 -  4.260                   9.0                      0.0141\n",
       "6        4.260 -  4.950                   3.0                      0.1245"
      ]
     },
     "execution_count": 167,
>>>>>>> 3a40ed6a2721fc05abd7e7016d235c3820451061
     "metadata": {},
     "output_type": "execute_result"
    }
   ],
   "source": [
    "from scipy.stats import expon\n",
    "\n",
    "probs = []\n",
    "for i in range(1,7):\n",
    "    cdf = round(expon.cdf(bins[i]) - expon.cdf(bins[i-1]), 4)\n",
    "    probs.append(cdf)\n",
    "    \n",
    "probs.append(1-sum(probs))\n",
    "\n",
    "tabla['Probabilidad de ocurrencia'] = probs\n",
    "tabla"
   ]
  },
  {
   "cell_type": "markdown",
   "metadata": {},
   "source": [
    "## Frecuencia esperada"
   ]
  },
  {
   "cell_type": "code",
<<<<<<< HEAD
   "execution_count": 8,
=======
   "execution_count": 168,
>>>>>>> 3a40ed6a2721fc05abd7e7016d235c3820451061
   "metadata": {},
   "outputs": [
    {
     "data": {
      "text/html": [
       "<div>\n",
       "<style>\n",
       "    .dataframe thead tr:only-child th {\n",
       "        text-align: right;\n",
       "    }\n",
       "\n",
       "    .dataframe thead th {\n",
       "        text-align: left;\n",
       "    }\n",
       "\n",
       "    .dataframe tbody tr th {\n",
       "        vertical-align: top;\n",
       "    }\n",
       "</style>\n",
       "<table border=\"1\" class=\"dataframe\">\n",
       "  <thead>\n",
       "    <tr style=\"text-align: right;\">\n",
       "      <th></th>\n",
       "      <th>Intervalos de llegada</th>\n",
       "      <th>Frecuencia observada</th>\n",
       "      <th>Probabilidad de ocurrencia</th>\n",
       "      <th>Frecuencia esperada</th>\n",
<<<<<<< HEAD
=======
       "      <th>Agrupada (&gt;=5)</th>\n",
>>>>>>> 3a40ed6a2721fc05abd7e7016d235c3820451061
       "    </tr>\n",
       "  </thead>\n",
       "  <tbody>\n",
       "    <tr>\n",
       "      <th>0</th>\n",
<<<<<<< HEAD
       "      <td>0.000 -  0.810</td>\n",
       "      <td>49.0</td>\n",
       "      <td>0.5549</td>\n",
       "      <td>55.49</td>\n",
       "    </tr>\n",
       "    <tr>\n",
       "      <th>1</th>\n",
       "      <td>0.810 -  1.619</td>\n",
       "      <td>24.0</td>\n",
       "      <td>0.2470</td>\n",
       "      <td>24.70</td>\n",
       "    </tr>\n",
       "    <tr>\n",
       "      <th>2</th>\n",
       "      <td>1.619 -  2.429</td>\n",
       "      <td>13.0</td>\n",
       "      <td>0.1099</td>\n",
       "      <td>10.99</td>\n",
       "    </tr>\n",
       "    <tr>\n",
       "      <th>3</th>\n",
       "      <td>2.429 -  3.238</td>\n",
       "      <td>9.0</td>\n",
       "      <td>0.0489</td>\n",
       "      <td>4.89</td>\n",
       "    </tr>\n",
       "    <tr>\n",
       "      <th>4</th>\n",
       "      <td>3.238 -  4.048</td>\n",
       "      <td>3.0</td>\n",
       "      <td>0.0218</td>\n",
       "      <td>2.18</td>\n",
       "    </tr>\n",
       "    <tr>\n",
       "      <th>5</th>\n",
       "      <td>4.048 -  4.857</td>\n",
       "      <td>1.0</td>\n",
       "      <td>0.0097</td>\n",
       "      <td>0.97</td>\n",
       "    </tr>\n",
       "    <tr>\n",
       "      <th>6</th>\n",
       "      <td>4.857 -  5.667</td>\n",
       "      <td>1.0</td>\n",
       "      <td>0.0078</td>\n",
       "      <td>0.78</td>\n",
=======
       "      <td>0.117 -  0.807</td>\n",
       "      <td>33.0</td>\n",
       "      <td>0.4436</td>\n",
       "      <td>44.36</td>\n",
       "      <td></td>\n",
       "    </tr>\n",
       "    <tr>\n",
       "      <th>1</th>\n",
       "      <td>0.807 -  1.498</td>\n",
       "      <td>24.0</td>\n",
       "      <td>0.2224</td>\n",
       "      <td>22.24</td>\n",
       "      <td></td>\n",
       "    </tr>\n",
       "    <tr>\n",
       "      <th>2</th>\n",
       "      <td>1.498 -  2.188</td>\n",
       "      <td>9.0</td>\n",
       "      <td>0.1115</td>\n",
       "      <td>11.15</td>\n",
       "      <td></td>\n",
       "    </tr>\n",
       "    <tr>\n",
       "      <th>3</th>\n",
       "      <td>2.188 -  2.879</td>\n",
       "      <td>17.0</td>\n",
       "      <td>0.0559</td>\n",
       "      <td>5.59</td>\n",
       "      <td></td>\n",
       "    </tr>\n",
       "    <tr>\n",
       "      <th>4</th>\n",
       "      <td>2.879 -  3.569</td>\n",
       "      <td>5.0</td>\n",
       "      <td>0.0280</td>\n",
       "      <td>2.80</td>\n",
       "      <td></td>\n",
       "    </tr>\n",
       "    <tr>\n",
       "      <th>5</th>\n",
       "      <td>3.569 -  4.260</td>\n",
       "      <td>9.0</td>\n",
       "      <td>0.0141</td>\n",
       "      <td>1.41</td>\n",
       "      <td></td>\n",
       "    </tr>\n",
       "    <tr>\n",
       "      <th>6</th>\n",
       "      <td>4.260 -  4.950</td>\n",
       "      <td>3.0</td>\n",
       "      <td>0.1245</td>\n",
       "      <td>12.45</td>\n",
       "      <td></td>\n",
>>>>>>> 3a40ed6a2721fc05abd7e7016d235c3820451061
       "    </tr>\n",
       "  </tbody>\n",
       "</table>\n",
       "</div>"
      ],
      "text/plain": [
       "  Intervalos de llegada  Frecuencia observada  Probabilidad de ocurrencia  \\\n",
<<<<<<< HEAD
       "0        0.000 -  0.810                  49.0                      0.5549   \n",
       "1        0.810 -  1.619                  24.0                      0.2470   \n",
       "2        1.619 -  2.429                  13.0                      0.1099   \n",
       "3        2.429 -  3.238                   9.0                      0.0489   \n",
       "4        3.238 -  4.048                   3.0                      0.0218   \n",
       "5        4.048 -  4.857                   1.0                      0.0097   \n",
       "6        4.857 -  5.667                   1.0                      0.0078   \n",
       "\n",
       "   Frecuencia esperada  \n",
       "0                55.49  \n",
       "1                24.70  \n",
       "2                10.99  \n",
       "3                 4.89  \n",
       "4                 2.18  \n",
       "5                 0.97  \n",
       "6                 0.78  "
      ]
     },
     "execution_count": 8,
=======
       "0        0.117 -  0.807                  33.0                      0.4436   \n",
       "1        0.807 -  1.498                  24.0                      0.2224   \n",
       "2        1.498 -  2.188                   9.0                      0.1115   \n",
       "3        2.188 -  2.879                  17.0                      0.0559   \n",
       "4        2.879 -  3.569                   5.0                      0.0280   \n",
       "5        3.569 -  4.260                   9.0                      0.0141   \n",
       "6        4.260 -  4.950                   3.0                      0.1245   \n",
       "\n",
       "   Frecuencia esperada Agrupada (>=5)  \n",
       "0                44.36                 \n",
       "1                22.24                 \n",
       "2                11.15                 \n",
       "3                 5.59                 \n",
       "4                 2.80                 \n",
       "5                 1.41                 \n",
       "6                12.45                 "
      ]
     },
     "execution_count": 168,
>>>>>>> 3a40ed6a2721fc05abd7e7016d235c3820451061
     "metadata": {},
     "output_type": "execute_result"
    }
   ],
   "source": [
    "tabla['Frecuencia esperada'] = [round(100*p, 4) for p in probs]\n",
<<<<<<< HEAD
=======
    "tabla['Agrupada (>=5)'] = ''\n",
>>>>>>> 3a40ed6a2721fc05abd7e7016d235c3820451061
    "tabla "
   ]
  },
  {
   "cell_type": "markdown",
   "metadata": {},
   "source": [
    "## Agrupación (>=5)"
   ]
  },
  {
   "cell_type": "code",
<<<<<<< HEAD
   "execution_count": 9,
=======
   "execution_count": 169,
>>>>>>> 3a40ed6a2721fc05abd7e7016d235c3820451061
   "metadata": {},
   "outputs": [
    {
     "data": {
      "text/html": [
       "<div>\n",
       "<style>\n",
       "    .dataframe thead tr:only-child th {\n",
       "        text-align: right;\n",
       "    }\n",
       "\n",
       "    .dataframe thead th {\n",
       "        text-align: left;\n",
       "    }\n",
       "\n",
       "    .dataframe tbody tr th {\n",
       "        vertical-align: top;\n",
       "    }\n",
       "</style>\n",
       "<table border=\"1\" class=\"dataframe\">\n",
       "  <thead>\n",
       "    <tr style=\"text-align: right;\">\n",
       "      <th></th>\n",
       "      <th>Intervalos de llegada</th>\n",
       "      <th>Frecuencia observada</th>\n",
       "      <th>Probabilidad de ocurrencia</th>\n",
       "      <th>Frecuencia esperada</th>\n",
       "      <th>Agrupada (&gt;=5)</th>\n",
       "    </tr>\n",
       "  </thead>\n",
       "  <tbody>\n",
       "    <tr>\n",
       "      <th>0</th>\n",
<<<<<<< HEAD
       "      <td>0.000 -  0.810</td>\n",
       "      <td>49.0</td>\n",
       "      <td>0.5549</td>\n",
       "      <td>55.49</td>\n",
=======
       "      <td>0.117 -  0.807</td>\n",
       "      <td>33.0</td>\n",
       "      <td>0.4436</td>\n",
       "      <td>44.36</td>\n",
>>>>>>> 3a40ed6a2721fc05abd7e7016d235c3820451061
       "      <td></td>\n",
       "    </tr>\n",
       "    <tr>\n",
       "      <th>1</th>\n",
<<<<<<< HEAD
       "      <td>0.810 -  1.619</td>\n",
       "      <td>24.0</td>\n",
       "      <td>0.2470</td>\n",
       "      <td>24.70</td>\n",
=======
       "      <td>0.807 -  1.498</td>\n",
       "      <td>24.0</td>\n",
       "      <td>0.2224</td>\n",
       "      <td>22.24</td>\n",
>>>>>>> 3a40ed6a2721fc05abd7e7016d235c3820451061
       "      <td></td>\n",
       "    </tr>\n",
       "    <tr>\n",
       "      <th>2</th>\n",
<<<<<<< HEAD
       "      <td>1.619 -  2.429</td>\n",
       "      <td>13.0</td>\n",
       "      <td>0.1099</td>\n",
       "      <td>10.99</td>\n",
=======
       "      <td>1.498 -  2.188</td>\n",
       "      <td>9.0</td>\n",
       "      <td>0.1115</td>\n",
       "      <td>11.15</td>\n",
>>>>>>> 3a40ed6a2721fc05abd7e7016d235c3820451061
       "      <td></td>\n",
       "    </tr>\n",
       "    <tr>\n",
       "      <th>3</th>\n",
<<<<<<< HEAD
       "      <td>2.429 -  3.238</td>\n",
       "      <td>9.0</td>\n",
       "      <td>0.0489</td>\n",
       "      <td>4.89</td>\n",
=======
       "      <td>2.188 -  2.879</td>\n",
       "      <td>17.0</td>\n",
       "      <td>0.0559</td>\n",
       "      <td>5.59</td>\n",
>>>>>>> 3a40ed6a2721fc05abd7e7016d235c3820451061
       "      <td></td>\n",
       "    </tr>\n",
       "    <tr>\n",
       "      <th>4</th>\n",
<<<<<<< HEAD
       "      <td>3.238 -  4.048</td>\n",
       "      <td>3.0</td>\n",
       "      <td>0.0218</td>\n",
       "      <td>2.18</td>\n",
=======
       "      <td>2.879 -  3.569</td>\n",
       "      <td>5.0</td>\n",
       "      <td>0.0280</td>\n",
       "      <td>2.80</td>\n",
>>>>>>> 3a40ed6a2721fc05abd7e7016d235c3820451061
       "      <td></td>\n",
       "    </tr>\n",
       "    <tr>\n",
       "      <th>5</th>\n",
<<<<<<< HEAD
       "      <td>4.048 -  4.857</td>\n",
       "      <td>1.0</td>\n",
       "      <td>0.0097</td>\n",
       "      <td>0.97</td>\n",
       "      <td></td>\n",
       "    </tr>\n",
       "    <tr>\n",
       "      <th>6</th>\n",
       "      <td>4.857 -  5.667</td>\n",
       "      <td>1.0</td>\n",
       "      <td>0.0078</td>\n",
       "      <td>0.78</td>\n",
       "      <td>8.82</td>\n",
=======
       "      <td>3.569 -  4.260</td>\n",
       "      <td>9.0</td>\n",
       "      <td>0.0141</td>\n",
       "      <td>1.41</td>\n",
       "      <td>9.8</td>\n",
       "    </tr>\n",
       "    <tr>\n",
       "      <th>6</th>\n",
       "      <td>4.260 -  4.950</td>\n",
       "      <td>3.0</td>\n",
       "      <td>0.1245</td>\n",
       "      <td>12.45</td>\n",
       "      <td></td>\n",
>>>>>>> 3a40ed6a2721fc05abd7e7016d235c3820451061
       "    </tr>\n",
       "  </tbody>\n",
       "</table>\n",
       "</div>"
      ],
      "text/plain": [
       "  Intervalos de llegada  Frecuencia observada  Probabilidad de ocurrencia  \\\n",
<<<<<<< HEAD
       "0        0.000 -  0.810                  49.0                      0.5549   \n",
       "1        0.810 -  1.619                  24.0                      0.2470   \n",
       "2        1.619 -  2.429                  13.0                      0.1099   \n",
       "3        2.429 -  3.238                   9.0                      0.0489   \n",
       "4        3.238 -  4.048                   3.0                      0.0218   \n",
       "5        4.048 -  4.857                   1.0                      0.0097   \n",
       "6        4.857 -  5.667                   1.0                      0.0078   \n",
       "\n",
       "   Frecuencia esperada Agrupada (>=5)  \n",
       "0                55.49                 \n",
       "1                24.70                 \n",
       "2                10.99                 \n",
       "3                 4.89                 \n",
       "4                 2.18                 \n",
       "5                 0.97                 \n",
       "6                 0.78           8.82  "
      ]
     },
     "execution_count": 9,
=======
       "0        0.117 -  0.807                  33.0                      0.4436   \n",
       "1        0.807 -  1.498                  24.0                      0.2224   \n",
       "2        1.498 -  2.188                   9.0                      0.1115   \n",
       "3        2.188 -  2.879                  17.0                      0.0559   \n",
       "4        2.879 -  3.569                   5.0                      0.0280   \n",
       "5        3.569 -  4.260                   9.0                      0.0141   \n",
       "6        4.260 -  4.950                   3.0                      0.1245   \n",
       "\n",
       "   Frecuencia esperada Agrupada (>=5)  \n",
       "0                44.36                 \n",
       "1                22.24                 \n",
       "2                11.15                 \n",
       "3                 5.59                 \n",
       "4                 2.80                 \n",
       "5                 1.41            9.8  \n",
       "6                12.45                 "
      ]
     },
     "execution_count": 169,
>>>>>>> 3a40ed6a2721fc05abd7e7016d235c3820451061
     "metadata": {},
     "output_type": "execute_result"
    }
   ],
   "source": [
<<<<<<< HEAD
    "tabla['Agrupada (>=5)'] = ''\n",
    "tabla.loc[6, 'Agrupada (>=5)'] = sum(tabla['Frecuencia esperada'][[3, 4, 5, 6]])\n",
=======
    "tabla.loc[5, 'Agrupada (>=5)'] = sum(tabla['Frecuencia esperada'][[3, 4, 5]])\n",
>>>>>>> 3a40ed6a2721fc05abd7e7016d235c3820451061
    "tabla"
   ]
  },
  {
   "cell_type": "markdown",
   "metadata": {},
   "source": [
    "## Chi cuadrada calculada"
   ]
  },
  {
   "cell_type": "code",
<<<<<<< HEAD
   "execution_count": 16,
=======
   "execution_count": 170,
>>>>>>> 3a40ed6a2721fc05abd7e7016d235c3820451061
   "metadata": {},
   "outputs": [
    {
     "data": {
      "text/html": [
       "<div>\n",
       "<style>\n",
       "    .dataframe thead tr:only-child th {\n",
       "        text-align: right;\n",
       "    }\n",
       "\n",
       "    .dataframe thead th {\n",
       "        text-align: left;\n",
       "    }\n",
       "\n",
       "    .dataframe tbody tr th {\n",
       "        vertical-align: top;\n",
       "    }\n",
       "</style>\n",
       "<table border=\"1\" class=\"dataframe\">\n",
       "  <thead>\n",
       "    <tr style=\"text-align: right;\">\n",
       "      <th></th>\n",
       "      <th>Intervalos de llegada</th>\n",
       "      <th>Frecuencia observada</th>\n",
       "      <th>Probabilidad de ocurrencia</th>\n",
       "      <th>Frecuencia esperada</th>\n",
       "      <th>Agrupada (&gt;=5)</th>\n",
       "      <th>Chi cuadrada</th>\n",
       "    </tr>\n",
       "  </thead>\n",
       "  <tbody>\n",
       "    <tr>\n",
       "      <th>0</th>\n",
<<<<<<< HEAD
       "      <td>0.000 -  0.810</td>\n",
       "      <td>49.0</td>\n",
       "      <td>0.5549</td>\n",
       "      <td>55.49</td>\n",
       "      <td></td>\n",
       "      <td>0.759057</td>\n",
       "    </tr>\n",
       "    <tr>\n",
       "      <th>1</th>\n",
       "      <td>0.810 -  1.619</td>\n",
       "      <td>24.0</td>\n",
       "      <td>0.2470</td>\n",
       "      <td>24.70</td>\n",
       "      <td></td>\n",
       "      <td>0.0198381</td>\n",
       "    </tr>\n",
       "    <tr>\n",
       "      <th>2</th>\n",
       "      <td>1.619 -  2.429</td>\n",
       "      <td>13.0</td>\n",
       "      <td>0.1099</td>\n",
       "      <td>10.99</td>\n",
       "      <td></td>\n",
       "      <td>0.367616</td>\n",
       "    </tr>\n",
       "    <tr>\n",
       "      <th>3</th>\n",
       "      <td>2.429 -  3.238</td>\n",
       "      <td>9.0</td>\n",
       "      <td>0.0489</td>\n",
       "      <td>4.89</td>\n",
=======
       "      <td>0.117 -  0.807</td>\n",
       "      <td>33.0</td>\n",
       "      <td>0.4436</td>\n",
       "      <td>44.36</td>\n",
       "      <td></td>\n",
       "      <td>2.90914</td>\n",
       "    </tr>\n",
       "    <tr>\n",
       "      <th>1</th>\n",
       "      <td>0.807 -  1.498</td>\n",
       "      <td>24.0</td>\n",
       "      <td>0.2224</td>\n",
       "      <td>22.24</td>\n",
       "      <td></td>\n",
       "      <td>0.139281</td>\n",
       "    </tr>\n",
       "    <tr>\n",
       "      <th>2</th>\n",
       "      <td>1.498 -  2.188</td>\n",
       "      <td>9.0</td>\n",
       "      <td>0.1115</td>\n",
       "      <td>11.15</td>\n",
       "      <td></td>\n",
       "      <td>0.414574</td>\n",
       "    </tr>\n",
       "    <tr>\n",
       "      <th>3</th>\n",
       "      <td>2.188 -  2.879</td>\n",
       "      <td>17.0</td>\n",
       "      <td>0.0559</td>\n",
       "      <td>5.59</td>\n",
>>>>>>> 3a40ed6a2721fc05abd7e7016d235c3820451061
       "      <td></td>\n",
       "      <td></td>\n",
       "    </tr>\n",
       "    <tr>\n",
       "      <th>4</th>\n",
<<<<<<< HEAD
       "      <td>3.238 -  4.048</td>\n",
       "      <td>3.0</td>\n",
       "      <td>0.0218</td>\n",
       "      <td>2.18</td>\n",
=======
       "      <td>2.879 -  3.569</td>\n",
       "      <td>5.0</td>\n",
       "      <td>0.0280</td>\n",
       "      <td>2.80</td>\n",
>>>>>>> 3a40ed6a2721fc05abd7e7016d235c3820451061
       "      <td></td>\n",
       "      <td></td>\n",
       "    </tr>\n",
       "    <tr>\n",
       "      <th>5</th>\n",
<<<<<<< HEAD
       "      <td>4.048 -  4.857</td>\n",
       "      <td>1.0</td>\n",
       "      <td>0.0097</td>\n",
       "      <td>0.97</td>\n",
       "      <td></td>\n",
       "      <td></td>\n",
       "    </tr>\n",
       "    <tr>\n",
       "      <th>6</th>\n",
       "      <td>4.857 -  5.667</td>\n",
       "      <td>1.0</td>\n",
       "      <td>0.0078</td>\n",
       "      <td>0.78</td>\n",
       "      <td>8.82</td>\n",
       "      <td>3.04222</td>\n",
=======
       "      <td>3.569 -  4.260</td>\n",
       "      <td>9.0</td>\n",
       "      <td>0.0141</td>\n",
       "      <td>1.41</td>\n",
       "      <td>9.8</td>\n",
       "      <td>45.8612</td>\n",
       "    </tr>\n",
       "    <tr>\n",
       "      <th>6</th>\n",
       "      <td>4.260 -  4.950</td>\n",
       "      <td>3.0</td>\n",
       "      <td>0.1245</td>\n",
       "      <td>12.45</td>\n",
       "      <td></td>\n",
       "      <td>7.17289</td>\n",
>>>>>>> 3a40ed6a2721fc05abd7e7016d235c3820451061
       "    </tr>\n",
       "  </tbody>\n",
       "</table>\n",
       "</div>"
      ],
      "text/plain": [
       "  Intervalos de llegada  Frecuencia observada  Probabilidad de ocurrencia  \\\n",
<<<<<<< HEAD
       "0        0.000 -  0.810                  49.0                      0.5549   \n",
       "1        0.810 -  1.619                  24.0                      0.2470   \n",
       "2        1.619 -  2.429                  13.0                      0.1099   \n",
       "3        2.429 -  3.238                   9.0                      0.0489   \n",
       "4        3.238 -  4.048                   3.0                      0.0218   \n",
       "5        4.048 -  4.857                   1.0                      0.0097   \n",
       "6        4.857 -  5.667                   1.0                      0.0078   \n",
       "\n",
       "   Frecuencia esperada Agrupada (>=5) Chi cuadrada  \n",
       "0                55.49                    0.759057  \n",
       "1                24.70                   0.0198381  \n",
       "2                10.99                    0.367616  \n",
       "3                 4.89                              \n",
       "4                 2.18                              \n",
       "5                 0.97                              \n",
       "6                 0.78           8.82      3.04222  "
      ]
     },
     "execution_count": 16,
=======
       "0        0.117 -  0.807                  33.0                      0.4436   \n",
       "1        0.807 -  1.498                  24.0                      0.2224   \n",
       "2        1.498 -  2.188                   9.0                      0.1115   \n",
       "3        2.188 -  2.879                  17.0                      0.0559   \n",
       "4        2.879 -  3.569                   5.0                      0.0280   \n",
       "5        3.569 -  4.260                   9.0                      0.0141   \n",
       "6        4.260 -  4.950                   3.0                      0.1245   \n",
       "\n",
       "   Frecuencia esperada Agrupada (>=5) Chi cuadrada  \n",
       "0                44.36                     2.90914  \n",
       "1                22.24                    0.139281  \n",
       "2                11.15                    0.414574  \n",
       "3                 5.59                              \n",
       "4                 2.80                              \n",
       "5                 1.41            9.8      45.8612  \n",
       "6                12.45                     7.17289  "
      ]
     },
     "execution_count": 170,
>>>>>>> 3a40ed6a2721fc05abd7e7016d235c3820451061
     "metadata": {},
     "output_type": "execute_result"
    }
   ],
   "source": [
    "o = list(tabla['Frecuencia observada'][[0,1,2]])\n",
<<<<<<< HEAD
    "o.append(sum(tabla['Frecuencia observada'][[3,4,5,6]]))\n",
    "\n",
    "e = list(tabla['Frecuencia esperada'][[0,1,2]])\n",
    "e.append(tabla['Agrupada (>=5)'][6])\n",
    "\n",
    "chi = []\n",
    "for i in range(0,4):\n",
=======
    "o.append(sum(tabla['Frecuencia observada'][[3,4,5]]))\n",
    "o.append(tabla['Frecuencia observada'][6])\n",
    "\n",
    "e = list(tabla['Frecuencia esperada'][[0,1,2]])\n",
    "e.append(tabla['Agrupada (>=5)'][5])\n",
    "e.append(tabla['Frecuencia esperada'][6])\n",
    "\n",
    "chi = []\n",
    "for i in range(0,5):\n",
>>>>>>> 3a40ed6a2721fc05abd7e7016d235c3820451061
    "    chi.append(((o[i] - e[i])**2)/e[i])\n",
    "\n",
    "chi_calculada = sum(chi)\n",
    "chi.insert(3, '')\n",
    "chi.insert(4, '')\n",
<<<<<<< HEAD
    "chi.insert(5, '')\n",
=======
>>>>>>> 3a40ed6a2721fc05abd7e7016d235c3820451061
    "tabla['Chi cuadrada'] = chi\n",
    "\n",
    "tabla"
   ]
  },
  {
   "cell_type": "code",
<<<<<<< HEAD
   "execution_count": 11,
=======
   "execution_count": 171,
>>>>>>> 3a40ed6a2721fc05abd7e7016d235c3820451061
   "metadata": {},
   "outputs": [
    {
     "data": {
      "text/plain": [
<<<<<<< HEAD
       "4.1887337812967198"
      ]
     },
     "execution_count": 11,
=======
       "56.497113995039506"
      ]
     },
     "execution_count": 171,
>>>>>>> 3a40ed6a2721fc05abd7e7016d235c3820451061
     "metadata": {},
     "output_type": "execute_result"
    }
   ],
   "source": [
    "chi_calculada"
   ]
  },
  {
   "cell_type": "markdown",
   "metadata": {},
   "source": [
    "## Chi cuadrada inversa"
   ]
  },
  {
   "cell_type": "code",
<<<<<<< HEAD
   "execution_count": 12,
=======
   "execution_count": 172,
>>>>>>> 3a40ed6a2721fc05abd7e7016d235c3820451061
   "metadata": {},
   "outputs": [
    {
     "data": {
      "text/plain": [
<<<<<<< HEAD
       "5.9914645471079817"
      ]
     },
     "execution_count": 12,
=======
       "7.8147279032511783"
      ]
     },
     "execution_count": 172,
>>>>>>> 3a40ed6a2721fc05abd7e7016d235c3820451061
     "metadata": {},
     "output_type": "execute_result"
    }
   ],
   "source": [
    "from scipy.stats import chi2\n",
    "\n",
<<<<<<< HEAD
    "chi2.isf(.05, 2)"
=======
    "chi2.isf(.05, 3)"
>>>>>>> 3a40ed6a2721fc05abd7e7016d235c3820451061
   ]
  }
 ],
 "metadata": {
  "kernelspec": {
   "display_name": "Python 3",
   "language": "python",
   "name": "python3"
  },
  "language_info": {
   "codemirror_mode": {
    "name": "ipython",
    "version": 3
   },
   "file_extension": ".py",
   "mimetype": "text/x-python",
   "name": "python",
   "nbconvert_exporter": "python",
   "pygments_lexer": "ipython3",
   "version": "3.6.1"
  }
 },
 "nbformat": 4,
 "nbformat_minor": 2
}
