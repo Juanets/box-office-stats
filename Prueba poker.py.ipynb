{
 "cells": [
  {
   "cell_type": "markdown",
   "metadata": {},
   "source": [
    "## Generar 300 números aleatorios"
   ]
  },
  {
   "cell_type": "code",
   "execution_count": 218,
   "metadata": {},
   "outputs": [],
   "source": [
    "import pandas as pd\n",
    "from random import random, randint\n",
    "\n",
    "# 300 datos\n",
    "datos = [str(randint(10000,99999)) for i in range(0,300)]"
   ]
  },
  {
   "cell_type": "markdown",
   "metadata": {},
   "source": [
    "## Clasificar números generados"
   ]
  },
  {
   "cell_type": "code",
   "execution_count": 226,
   "metadata": {},
   "outputs": [
    {
     "data": {
      "text/html": [
       "<div>\n",
       "<style>\n",
       "    .dataframe thead tr:only-child th {\n",
       "        text-align: right;\n",
       "    }\n",
       "\n",
       "    .dataframe thead th {\n",
       "        text-align: left;\n",
       "    }\n",
       "\n",
       "    .dataframe tbody tr th {\n",
       "        vertical-align: top;\n",
       "    }\n",
       "</style>\n",
       "<table border=\"1\" class=\"dataframe\">\n",
       "  <thead>\n",
       "    <tr style=\"text-align: right;\">\n",
       "      <th></th>\n",
       "      <th>Clasificación</th>\n",
       "      <th>Número</th>\n",
       "    </tr>\n",
       "  </thead>\n",
       "  <tbody>\n",
       "    <tr>\n",
       "      <th>0</th>\n",
       "      <td>0</td>\n",
       "      <td>76835</td>\n",
       "    </tr>\n",
       "    <tr>\n",
       "      <th>1</th>\n",
       "      <td>2</td>\n",
       "      <td>18514</td>\n",
       "    </tr>\n",
       "    <tr>\n",
       "      <th>2</th>\n",
       "      <td>4</td>\n",
       "      <td>81718</td>\n",
       "    </tr>\n",
       "    <tr>\n",
       "      <th>3</th>\n",
       "      <td>4</td>\n",
       "      <td>77044</td>\n",
       "    </tr>\n",
       "    <tr>\n",
       "      <th>4</th>\n",
       "      <td>0</td>\n",
       "      <td>78529</td>\n",
       "    </tr>\n",
       "  </tbody>\n",
       "</table>\n",
       "</div>"
      ],
      "text/plain": [
       "   Clasificación Número\n",
       "0              0  76835\n",
       "1              2  18514\n",
       "2              4  81718\n",
       "3              4  77044\n",
       "4              0  78529"
      ]
     },
     "execution_count": 226,
     "metadata": {},
     "output_type": "execute_result"
    }
   ],
   "source": [
    "def patron(num):\n",
    "    iguales = -5\n",
    "    for i in range(0, 5):\n",
    "        char1 = num[i]\n",
    "        for j in range(0, 5):\n",
    "            char2 = num[j]\n",
    "            if char1 == char2:\n",
    "                iguales = iguales+1\n",
    "    \n",
    "    return iguales\n",
    "\n",
    "# aplicar la funcion `patron` a cada elemento de la lista `datos`\n",
    "clasificacion = list(map(patron, datos))\n",
    "\n",
    "data = pd.DataFrame({'Número': datos, 'Clasificación': clasificacion})\n",
    "\n",
    "data.head()"
   ]
  },
  {
   "cell_type": "markdown",
   "metadata": {},
   "source": [
    "## Histograma"
   ]
  },
  {
   "cell_type": "code",
   "execution_count": 227,
   "metadata": {},
   "outputs": [
    {
     "data": {
      "image/png": "[encoded data removed]",
      "text/plain": [
       "<matplotlib.figure.Figure at 0x1d7280aa080>"
      ]
     },
     "metadata": {},
     "output_type": "display_data"
    }
   ],
   "source": [
    "%matplotlib inline\n",
    "import matplotlib.pyplot as plt\n",
    "from matplotlib.pyplot import xticks\n",
    "\n",
    "freq, bins, _ = plt.hist(data['Clasificación'], bins=7)\n",
    "\n",
    "locs, labels = xticks()\n",
    "\n",
    "ticks = xticks(bins+1, ('TD', '1P', '2P', 'TP', 'T', 'P', 'Q'))"
   ]
  },
  {
   "cell_type": "markdown",
   "metadata": {},
   "source": [
    "## Probabilidades, frecuencias esperadas y observadas "
   ]
  },
  {
   "cell_type": "code",
   "execution_count": 228,
   "metadata": {},
   "outputs": [
    {
     "data": {
      "text/html": [
       "<div>\n",
       "<style>\n",
       "    .dataframe thead tr:only-child th {\n",
       "        text-align: right;\n",
       "    }\n",
       "\n",
       "    .dataframe thead th {\n",
       "        text-align: left;\n",
       "    }\n",
       "\n",
       "    .dataframe tbody tr th {\n",
       "        vertical-align: top;\n",
       "    }\n",
       "</style>\n",
       "<table border=\"1\" class=\"dataframe\">\n",
       "  <thead>\n",
       "    <tr style=\"text-align: right;\">\n",
       "      <th></th>\n",
       "      <th>Categorías</th>\n",
       "      <th>Frecuencia observada</th>\n",
       "      <th>Probabilidad</th>\n",
       "      <th>Frecuencia esperada</th>\n",
       "    </tr>\n",
       "  </thead>\n",
       "  <tbody>\n",
       "    <tr>\n",
       "      <th>0</th>\n",
       "      <td>Todos diferentes (TD)</td>\n",
       "      <td>90.0</td>\n",
       "      <td>0.3024</td>\n",
       "      <td>90.72</td>\n",
       "    </tr>\n",
       "    <tr>\n",
       "      <th>1</th>\n",
       "      <td>Exactamente un par (1P)</td>\n",
       "      <td>143.0</td>\n",
       "      <td>0.5040</td>\n",
       "      <td>151.20</td>\n",
       "    </tr>\n",
       "    <tr>\n",
       "      <th>2</th>\n",
       "      <td>Dos pares (2P)</td>\n",
       "      <td>38.0</td>\n",
       "      <td>0.1080</td>\n",
       "      <td>32.40</td>\n",
       "    </tr>\n",
       "    <tr>\n",
       "      <th>3</th>\n",
       "      <td>Una tercia y un par (TP)</td>\n",
       "      <td>25.0</td>\n",
       "      <td>0.0090</td>\n",
       "      <td>2.70</td>\n",
       "    </tr>\n",
       "    <tr>\n",
       "      <th>4</th>\n",
       "      <td>Tercia (T)</td>\n",
       "      <td>3.0</td>\n",
       "      <td>0.0720</td>\n",
       "      <td>21.60</td>\n",
       "    </tr>\n",
       "    <tr>\n",
       "      <th>5</th>\n",
       "      <td>Póker (P)</td>\n",
       "      <td>0.0</td>\n",
       "      <td>0.0045</td>\n",
       "      <td>1.35</td>\n",
       "    </tr>\n",
       "    <tr>\n",
       "      <th>6</th>\n",
       "      <td>Quintilla (Q)</td>\n",
       "      <td>1.0</td>\n",
       "      <td>0.0001</td>\n",
       "      <td>0.03</td>\n",
       "    </tr>\n",
       "  </tbody>\n",
       "</table>\n",
       "</div>"
      ],
      "text/plain": [
       "                 Categorías  Frecuencia observada  Probabilidad  \\\n",
       "0     Todos diferentes (TD)                  90.0        0.3024   \n",
       "1   Exactamente un par (1P)                 143.0        0.5040   \n",
       "2            Dos pares (2P)                  38.0        0.1080   \n",
       "3  Una tercia y un par (TP)                  25.0        0.0090   \n",
       "4                Tercia (T)                   3.0        0.0720   \n",
       "5                 Póker (P)                   0.0        0.0045   \n",
       "6             Quintilla (Q)                   1.0        0.0001   \n",
       "\n",
       "   Frecuencia esperada  \n",
       "0                90.72  \n",
       "1               151.20  \n",
       "2                32.40  \n",
       "3                 2.70  \n",
       "4                21.60  \n",
       "5                 1.35  \n",
       "6                 0.03  "
      ]
     },
     "execution_count": 228,
     "metadata": {},
     "output_type": "execute_result"
    }
   ],
   "source": [
    "tabla = pd.DataFrame()\n",
    "\n",
    "cat = [\n",
    "        'Todos diferentes (TD)', \n",
    "        'Exactamente un par (1P)', \n",
    "        'Dos pares (2P)',\n",
    "        'Una tercia y un par (TP)',\n",
    "        'Tercia (T)',\n",
    "        'Póker (P)',\n",
    "        'Quintilla (Q)'\n",
    "]\n",
    "\n",
    "probs = [.3024, .5040, .1080, .0090, .0720, .0045, .0001]\n",
    "freq_esperada = [round(300*p, 4) for p in probs]\n",
    "\n",
    "tabla['Categorías'] = cat\n",
    "tabla['Frecuencia observada'] = freq\n",
    "tabla['Probabilidad'] = probs\n",
    "tabla['Frecuencia esperada'] = freq_esperada\n",
    "\n",
    "tabla"
   ]
  },
  {
   "cell_type": "markdown",
   "metadata": {},
   "source": [
    "## Calcular chi cuadrada"
   ]
  },
  {
   "cell_type": "code",
   "execution_count": 229,
   "metadata": {},
   "outputs": [
    {
     "data": {
      "text/html": [
       "<div>\n",
       "<style>\n",
       "    .dataframe thead tr:only-child th {\n",
       "        text-align: right;\n",
       "    }\n",
       "\n",
       "    .dataframe thead th {\n",
       "        text-align: left;\n",
       "    }\n",
       "\n",
       "    .dataframe tbody tr th {\n",
       "        vertical-align: top;\n",
       "    }\n",
       "</style>\n",
       "<table border=\"1\" class=\"dataframe\">\n",
       "  <thead>\n",
       "    <tr style=\"text-align: right;\">\n",
       "      <th></th>\n",
       "      <th>Categorías</th>\n",
       "      <th>Frecuencia observada</th>\n",
       "      <th>Probabilidad</th>\n",
       "      <th>Frecuencia esperada</th>\n",
       "      <th>Chi cuadrada</th>\n",
       "    </tr>\n",
       "  </thead>\n",
       "  <tbody>\n",
       "    <tr>\n",
       "      <th>0</th>\n",
       "      <td>Todos diferentes (TD)</td>\n",
       "      <td>90.0</td>\n",
       "      <td>0.3024</td>\n",
       "      <td>90.72</td>\n",
       "      <td>0.005714</td>\n",
       "    </tr>\n",
       "    <tr>\n",
       "      <th>1</th>\n",
       "      <td>Exactamente un par (1P)</td>\n",
       "      <td>143.0</td>\n",
       "      <td>0.5040</td>\n",
       "      <td>151.20</td>\n",
       "      <td>0.444709</td>\n",
       "    </tr>\n",
       "    <tr>\n",
       "      <th>2</th>\n",
       "      <td>Dos pares (2P)</td>\n",
       "      <td>38.0</td>\n",
       "      <td>0.1080</td>\n",
       "      <td>32.40</td>\n",
       "      <td>0.967901</td>\n",
       "    </tr>\n",
       "    <tr>\n",
       "      <th>3</th>\n",
       "      <td>Una tercia y un par (TP)</td>\n",
       "      <td>25.0</td>\n",
       "      <td>0.0090</td>\n",
       "      <td>2.70</td>\n",
       "      <td>184.181481</td>\n",
       "    </tr>\n",
       "    <tr>\n",
       "      <th>4</th>\n",
       "      <td>Tercia (T)</td>\n",
       "      <td>3.0</td>\n",
       "      <td>0.0720</td>\n",
       "      <td>21.60</td>\n",
       "      <td>16.016667</td>\n",
       "    </tr>\n",
       "    <tr>\n",
       "      <th>5</th>\n",
       "      <td>Póker (P)</td>\n",
       "      <td>0.0</td>\n",
       "      <td>0.0045</td>\n",
       "      <td>1.35</td>\n",
       "      <td>1.350000</td>\n",
       "    </tr>\n",
       "    <tr>\n",
       "      <th>6</th>\n",
       "      <td>Quintilla (Q)</td>\n",
       "      <td>1.0</td>\n",
       "      <td>0.0001</td>\n",
       "      <td>0.03</td>\n",
       "      <td>31.363333</td>\n",
       "    </tr>\n",
       "  </tbody>\n",
       "</table>\n",
       "</div>"
      ],
      "text/plain": [
       "                 Categorías  Frecuencia observada  Probabilidad  \\\n",
       "0     Todos diferentes (TD)                  90.0        0.3024   \n",
       "1   Exactamente un par (1P)                 143.0        0.5040   \n",
       "2            Dos pares (2P)                  38.0        0.1080   \n",
       "3  Una tercia y un par (TP)                  25.0        0.0090   \n",
       "4                Tercia (T)                   3.0        0.0720   \n",
       "5                 Póker (P)                   0.0        0.0045   \n",
       "6             Quintilla (Q)                   1.0        0.0001   \n",
       "\n",
       "   Frecuencia esperada  Chi cuadrada  \n",
       "0                90.72      0.005714  \n",
       "1               151.20      0.444709  \n",
       "2                32.40      0.967901  \n",
       "3                 2.70    184.181481  \n",
       "4                21.60     16.016667  \n",
       "5                 1.35      1.350000  \n",
       "6                 0.03     31.363333  "
      ]
     },
     "execution_count": 229,
     "metadata": {},
     "output_type": "execute_result"
    }
   ],
   "source": [
    "chi = []\n",
    "for i in range(0,7):\n",
    "    chi.append(((freq[i] - freq_esperada[i])**2)/freq_esperada[i])\n",
    "\n",
    "tabla['Chi cuadrada'] = chi\n",
    "chi_cal = sum(chi)\n",
    "tabla"
   ]
  },
  {
   "cell_type": "markdown",
   "metadata": {},
   "source": [
    "## Conclusiones"
   ]
  },
  {
   "cell_type": "code",
   "execution_count": 230,
   "metadata": {},
   "outputs": [
    {
     "name": "stdout",
     "output_type": "stream",
     "text": [
      "Chi cuadrada inversa: 12.5916\n",
      "Chi cuadrada calculada: 234.329805996\n"
     ]
    }
   ],
   "source": [
    "from scipy.stats import chi2\n",
    "\n",
    "print('Chi cuadrada inversa:', round(chi2.isf(.05, 6), 4))\n",
    "print('Chi cuadrada calculada:', chi_cal)"
   ]
  }
 ],
 "metadata": {
  "kernelspec": {
   "display_name": "Python 3",
   "language": "python",
   "name": "python3"
  },
  "language_info": {
   "codemirror_mode": {
    "name": "ipython",
    "version": 3
   },
   "file_extension": ".py",
   "mimetype": "text/x-python",
   "name": "python",
   "nbconvert_exporter": "python",
   "pygments_lexer": "ipython3",
   "version": "3.6.1"
  }
 },
 "nbformat": 4,
 "nbformat_minor": 2
}
