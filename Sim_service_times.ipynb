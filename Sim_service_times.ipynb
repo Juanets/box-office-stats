{
 "cells": [
  {
   "cell_type": "markdown",
   "metadata": {},
   "source": [
    "## Leer los datos"
   ]
  },
  {
   "cell_type": "code",
   "execution_count": 2,
   "metadata": {},
   "outputs": [
    {
     "name": "stdout",
     "output_type": "stream",
     "text": [
      "(100, 1)\n"
     ]
    },
    {
     "data": {
      "text/html": [
       "<div>\n",
       "<style>\n",
       "    .dataframe thead tr:only-child th {\n",
       "        text-align: right;\n",
       "    }\n",
       "\n",
       "    .dataframe thead th {\n",
       "        text-align: left;\n",
       "    }\n",
       "\n",
       "    .dataframe tbody tr th {\n",
       "        vertical-align: top;\n",
       "    }\n",
       "</style>\n",
       "<table border=\"1\" class=\"dataframe\">\n",
       "  <thead>\n",
       "    <tr style=\"text-align: right;\">\n",
       "      <th></th>\n",
       "      <th>Lap</th>\n",
       "    </tr>\n",
       "  </thead>\n",
       "  <tbody>\n",
       "    <tr>\n",
       "      <th>0</th>\n",
       "      <td>00:02:10</td>\n",
       "    </tr>\n",
       "    <tr>\n",
       "      <th>1</th>\n",
       "      <td>00:00:49</td>\n",
       "    </tr>\n",
       "    <tr>\n",
       "      <th>2</th>\n",
       "      <td>00:00:50</td>\n",
       "    </tr>\n",
       "    <tr>\n",
       "      <th>3</th>\n",
       "      <td>00:00:33</td>\n",
       "    </tr>\n",
       "    <tr>\n",
       "      <th>4</th>\n",
       "      <td>00:04:20</td>\n",
       "    </tr>\n",
       "  </tbody>\n",
       "</table>\n",
       "</div>"
      ],
      "text/plain": [
       "        Lap\n",
       "0  00:02:10\n",
       "1  00:00:49\n",
       "2  00:00:50\n",
       "3  00:00:33\n",
       "4  00:04:20"
      ]
     },
     "execution_count": 2,
     "metadata": {},
     "output_type": "execute_result"
    }
   ],
   "source": [
    "import pandas as pd\n",
    "\n",
    "e = pd.read_csv('laps.csv')\n",
    "\n",
    "print(e.shape)\n",
    "e.head()"
   ]
  },
  {
   "cell_type": "markdown",
   "metadata": {},
   "source": [
    "## Dar formato a los minutos (e.g. 00:00:30 -> 0.5 minutos)"
   ]
  },
  {
   "cell_type": "code",
   "execution_count": 3,
   "metadata": {},
   "outputs": [],
   "source": [
    "ftr = [3600,60,1]\n",
    "\n",
    "lap_minutes = []\n",
    "for entrada in e['Lap']:\n",
    "    lap_minutes.append(sum([a*b for a,b in zip(ftr, map(int,entrada.strip().split(':')))])/60)\n",
    "\n",
    "data = pd.DataFrame()\n",
    "data['Minutes'] = lap_minutes\n",
    "data.to_csv('datos_sim.csv')"
   ]
  },
  {
   "cell_type": "markdown",
   "metadata": {},
   "source": [
    "## Histograma"
   ]
  },
  {
   "cell_type": "code",
   "execution_count": 4,
   "metadata": {},
   "outputs": [
    {
     "data": {
      "image/png": "[encoded data removed]",
      "text/plain": [
       "<matplotlib.figure.Figure at 0x116f6bcc1d0>"
      ]
     },
     "metadata": {},
     "output_type": "display_data"
    }
   ],
   "source": [
    "%matplotlib inline\n",
    "import matplotlib.pyplot as plt\n",
    "\n",
    "freq, bins, _ = plt.hist(data['Minutes'], bins=7)"
   ]
  },
  {
   "cell_type": "markdown",
   "metadata": {},
   "source": [
    "## Media muestral"
   ]
  },
  {
   "cell_type": "code",
   "execution_count": 5,
   "metadata": {},
   "outputs": [
    {
     "data": {
      "text/plain": [
       "1.2241666666666668"
      ]
     },
     "execution_count": 5,
     "metadata": {},
     "output_type": "execute_result"
    }
   ],
   "source": [
    "data['Minutes'].mean()"
   ]
  },
  {
   "cell_type": "markdown",
   "metadata": {},
   "source": [
    "## Intervalos"
   ]
  },
  {
   "cell_type": "code",
   "execution_count": 6,
   "metadata": {},
   "outputs": [
    {
     "data": {
      "text/html": [
       "<div>\n",
       "<style>\n",
       "    .dataframe thead tr:only-child th {\n",
       "        text-align: right;\n",
       "    }\n",
       "\n",
       "    .dataframe thead th {\n",
       "        text-align: left;\n",
       "    }\n",
       "\n",
       "    .dataframe tbody tr th {\n",
       "        vertical-align: top;\n",
       "    }\n",
       "</style>\n",
       "<table border=\"1\" class=\"dataframe\">\n",
       "  <thead>\n",
       "    <tr style=\"text-align: right;\">\n",
       "      <th></th>\n",
       "      <th>Intervalos de llegada</th>\n",
       "    </tr>\n",
       "  </thead>\n",
       "  <tbody>\n",
       "    <tr>\n",
       "      <th>0</th>\n",
       "      <td>0.000 -  0.948</td>\n",
       "    </tr>\n",
       "    <tr>\n",
       "      <th>1</th>\n",
       "      <td>0.948 -  1.895</td>\n",
       "    </tr>\n",
       "    <tr>\n",
       "      <th>2</th>\n",
       "      <td>1.895 -  2.843</td>\n",
       "    </tr>\n",
       "    <tr>\n",
       "      <th>3</th>\n",
       "      <td>2.843 -  3.790</td>\n",
       "    </tr>\n",
       "    <tr>\n",
       "      <th>4</th>\n",
       "      <td>3.790 -  4.738</td>\n",
       "    </tr>\n",
       "    <tr>\n",
       "      <th>5</th>\n",
       "      <td>4.738 -  5.686</td>\n",
       "    </tr>\n",
       "    <tr>\n",
       "      <th>6</th>\n",
       "      <td>5.686 -  6.633</td>\n",
       "    </tr>\n",
       "  </tbody>\n",
       "</table>\n",
       "</div>"
      ],
      "text/plain": [
       "  Intervalos de llegada\n",
       "0        0.000 -  0.948\n",
       "1        0.948 -  1.895\n",
       "2        1.895 -  2.843\n",
       "3        2.843 -  3.790\n",
       "4        3.790 -  4.738\n",
       "5        4.738 -  5.686\n",
       "6        5.686 -  6.633"
      ]
     },
     "execution_count": 6,
     "metadata": {},
     "output_type": "execute_result"
    }
   ],
   "source": [
    "tabla = pd.DataFrame()\n",
    "\n",
    "intervalos = []\n",
    "\n",
    "for i in range(1, 8):\n",
    "    int = '{0: > .3f} - {1: > .3f}'.format(bins[i-1], bins[i])\n",
    "    intervalos.append(int)\n",
    "    \n",
    "tabla['Intervalos de llegada'] = intervalos\n",
    "tabla"
   ]
  },
  {
   "cell_type": "markdown",
   "metadata": {},
   "source": [
    "## Frecuencia observada"
   ]
  },
  {
   "cell_type": "code",
   "execution_count": 7,
   "metadata": {},
   "outputs": [
    {
     "data": {
      "text/html": [
       "<div>\n",
       "<style>\n",
       "    .dataframe thead tr:only-child th {\n",
       "        text-align: right;\n",
       "    }\n",
       "\n",
       "    .dataframe thead th {\n",
       "        text-align: left;\n",
       "    }\n",
       "\n",
       "    .dataframe tbody tr th {\n",
       "        vertical-align: top;\n",
       "    }\n",
       "</style>\n",
       "<table border=\"1\" class=\"dataframe\">\n",
       "  <thead>\n",
       "    <tr style=\"text-align: right;\">\n",
       "      <th></th>\n",
       "      <th>Intervalos de llegada</th>\n",
       "      <th>Frecuencia observada</th>\n",
       "    </tr>\n",
       "  </thead>\n",
       "  <tbody>\n",
       "    <tr>\n",
       "      <th>0</th>\n",
       "      <td>0.000 -  0.948</td>\n",
       "      <td>56.0</td>\n",
       "    </tr>\n",
       "    <tr>\n",
       "      <th>1</th>\n",
       "      <td>0.948 -  1.895</td>\n",
       "      <td>26.0</td>\n",
       "    </tr>\n",
       "    <tr>\n",
       "      <th>2</th>\n",
       "      <td>1.895 -  2.843</td>\n",
       "      <td>11.0</td>\n",
       "    </tr>\n",
       "    <tr>\n",
       "      <th>3</th>\n",
       "      <td>2.843 -  3.790</td>\n",
       "      <td>3.0</td>\n",
       "    </tr>\n",
       "    <tr>\n",
       "      <th>4</th>\n",
       "      <td>3.790 -  4.738</td>\n",
       "      <td>2.0</td>\n",
       "    </tr>\n",
       "    <tr>\n",
       "      <th>5</th>\n",
       "      <td>4.738 -  5.686</td>\n",
       "      <td>1.0</td>\n",
       "    </tr>\n",
       "    <tr>\n",
       "      <th>6</th>\n",
       "      <td>5.686 -  6.633</td>\n",
       "      <td>1.0</td>\n",
       "    </tr>\n",
       "  </tbody>\n",
       "</table>\n",
       "</div>"
      ],
      "text/plain": [
       "  Intervalos de llegada  Frecuencia observada\n",
       "0        0.000 -  0.948                  56.0\n",
       "1        0.948 -  1.895                  26.0\n",
       "2        1.895 -  2.843                  11.0\n",
       "3        2.843 -  3.790                   3.0\n",
       "4        3.790 -  4.738                   2.0\n",
       "5        4.738 -  5.686                   1.0\n",
       "6        5.686 -  6.633                   1.0"
      ]
     },
     "execution_count": 7,
     "metadata": {},
     "output_type": "execute_result"
    }
   ],
   "source": [
    "tabla['Frecuencia observada'] = freq\n",
    "tabla"
   ]
  },
  {
   "cell_type": "markdown",
   "metadata": {},
   "source": [
    "## Probabilidad de ocurrencia"
   ]
  },
  {
   "cell_type": "code",
   "execution_count": 8,
   "metadata": {},
   "outputs": [
    {
     "data": {
      "text/html": [
       "<div>\n",
       "<style>\n",
       "    .dataframe thead tr:only-child th {\n",
       "        text-align: right;\n",
       "    }\n",
       "\n",
       "    .dataframe thead th {\n",
       "        text-align: left;\n",
       "    }\n",
       "\n",
       "    .dataframe tbody tr th {\n",
       "        vertical-align: top;\n",
       "    }\n",
       "</style>\n",
       "<table border=\"1\" class=\"dataframe\">\n",
       "  <thead>\n",
       "    <tr style=\"text-align: right;\">\n",
       "      <th></th>\n",
       "      <th>Intervalos de llegada</th>\n",
       "      <th>Frecuencia observada</th>\n",
       "      <th>Probabilidad de ocurrencia</th>\n",
       "    </tr>\n",
       "  </thead>\n",
       "  <tbody>\n",
       "    <tr>\n",
       "      <th>0</th>\n",
       "      <td>0.000 -  0.948</td>\n",
       "      <td>56.0</td>\n",
       "      <td>0.6123</td>\n",
       "    </tr>\n",
       "    <tr>\n",
       "      <th>1</th>\n",
       "      <td>0.948 -  1.895</td>\n",
       "      <td>26.0</td>\n",
       "      <td>0.2374</td>\n",
       "    </tr>\n",
       "    <tr>\n",
       "      <th>2</th>\n",
       "      <td>1.895 -  2.843</td>\n",
       "      <td>11.0</td>\n",
       "      <td>0.0920</td>\n",
       "    </tr>\n",
       "    <tr>\n",
       "      <th>3</th>\n",
       "      <td>2.843 -  3.790</td>\n",
       "      <td>3.0</td>\n",
       "      <td>0.0357</td>\n",
       "    </tr>\n",
       "    <tr>\n",
       "      <th>4</th>\n",
       "      <td>3.790 -  4.738</td>\n",
       "      <td>2.0</td>\n",
       "      <td>0.0138</td>\n",
       "    </tr>\n",
       "    <tr>\n",
       "      <th>5</th>\n",
       "      <td>4.738 -  5.686</td>\n",
       "      <td>1.0</td>\n",
       "      <td>0.0054</td>\n",
       "    </tr>\n",
       "    <tr>\n",
       "      <th>6</th>\n",
       "      <td>5.686 -  6.633</td>\n",
       "      <td>1.0</td>\n",
       "      <td>0.0034</td>\n",
       "    </tr>\n",
       "  </tbody>\n",
       "</table>\n",
       "</div>"
      ],
      "text/plain": [
       "  Intervalos de llegada  Frecuencia observada  Probabilidad de ocurrencia\n",
       "0        0.000 -  0.948                  56.0                      0.6123\n",
       "1        0.948 -  1.895                  26.0                      0.2374\n",
       "2        1.895 -  2.843                  11.0                      0.0920\n",
       "3        2.843 -  3.790                   3.0                      0.0357\n",
       "4        3.790 -  4.738                   2.0                      0.0138\n",
       "5        4.738 -  5.686                   1.0                      0.0054\n",
       "6        5.686 -  6.633                   1.0                      0.0034"
      ]
     },
     "execution_count": 8,
     "metadata": {},
     "output_type": "execute_result"
    }
   ],
   "source": [
    "from scipy.stats import expon\n",
    "\n",
    "probs = []\n",
    "for i in range(1,7):\n",
    "    cdf = round(expon.cdf(bins[i]) - expon.cdf(bins[i-1]), 4)\n",
    "    probs.append(cdf)\n",
    "    \n",
    "probs.append(1-sum(probs))\n",
    "\n",
    "tabla['Probabilidad de ocurrencia'] = probs\n",
    "tabla"
   ]
  },
  {
   "cell_type": "markdown",
   "metadata": {},
   "source": [
    "## Frecuencia esperada"
   ]
  },
  {
   "cell_type": "code",
   "execution_count": 9,
   "metadata": {},
   "outputs": [
    {
     "data": {
      "text/html": [
       "<div>\n",
       "<style>\n",
       "    .dataframe thead tr:only-child th {\n",
       "        text-align: right;\n",
       "    }\n",
       "\n",
       "    .dataframe thead th {\n",
       "        text-align: left;\n",
       "    }\n",
       "\n",
       "    .dataframe tbody tr th {\n",
       "        vertical-align: top;\n",
       "    }\n",
       "</style>\n",
       "<table border=\"1\" class=\"dataframe\">\n",
       "  <thead>\n",
       "    <tr style=\"text-align: right;\">\n",
       "      <th></th>\n",
       "      <th>Intervalos de llegada</th>\n",
       "      <th>Frecuencia observada</th>\n",
       "      <th>Probabilidad de ocurrencia</th>\n",
       "      <th>Frecuencia esperada</th>\n",
       "    </tr>\n",
       "  </thead>\n",
       "  <tbody>\n",
       "    <tr>\n",
       "      <th>0</th>\n",
       "      <td>0.000 -  0.948</td>\n",
       "      <td>56.0</td>\n",
       "      <td>0.6123</td>\n",
       "      <td>61.23</td>\n",
       "    </tr>\n",
       "    <tr>\n",
       "      <th>1</th>\n",
       "      <td>0.948 -  1.895</td>\n",
       "      <td>26.0</td>\n",
       "      <td>0.2374</td>\n",
       "      <td>23.74</td>\n",
       "    </tr>\n",
       "    <tr>\n",
       "      <th>2</th>\n",
       "      <td>1.895 -  2.843</td>\n",
       "      <td>11.0</td>\n",
       "      <td>0.0920</td>\n",
       "      <td>9.20</td>\n",
       "    </tr>\n",
       "    <tr>\n",
       "      <th>3</th>\n",
       "      <td>2.843 -  3.790</td>\n",
       "      <td>3.0</td>\n",
       "      <td>0.0357</td>\n",
       "      <td>3.57</td>\n",
       "    </tr>\n",
       "    <tr>\n",
       "      <th>4</th>\n",
       "      <td>3.790 -  4.738</td>\n",
       "      <td>2.0</td>\n",
       "      <td>0.0138</td>\n",
       "      <td>1.38</td>\n",
       "    </tr>\n",
       "    <tr>\n",
       "      <th>5</th>\n",
       "      <td>4.738 -  5.686</td>\n",
       "      <td>1.0</td>\n",
       "      <td>0.0054</td>\n",
       "      <td>0.54</td>\n",
       "    </tr>\n",
       "    <tr>\n",
       "      <th>6</th>\n",
       "      <td>5.686 -  6.633</td>\n",
       "      <td>1.0</td>\n",
       "      <td>0.0034</td>\n",
       "      <td>0.34</td>\n",
       "    </tr>\n",
       "  </tbody>\n",
       "</table>\n",
       "</div>"
      ],
      "text/plain": [
       "  Intervalos de llegada  Frecuencia observada  Probabilidad de ocurrencia  \\\n",
       "0        0.000 -  0.948                  56.0                      0.6123   \n",
       "1        0.948 -  1.895                  26.0                      0.2374   \n",
       "2        1.895 -  2.843                  11.0                      0.0920   \n",
       "3        2.843 -  3.790                   3.0                      0.0357   \n",
       "4        3.790 -  4.738                   2.0                      0.0138   \n",
       "5        4.738 -  5.686                   1.0                      0.0054   \n",
       "6        5.686 -  6.633                   1.0                      0.0034   \n",
       "\n",
       "   Frecuencia esperada  \n",
       "0                61.23  \n",
       "1                23.74  \n",
       "2                 9.20  \n",
       "3                 3.57  \n",
       "4                 1.38  \n",
       "5                 0.54  \n",
       "6                 0.34  "
      ]
     },
     "execution_count": 9,
     "metadata": {},
     "output_type": "execute_result"
    }
   ],
   "source": [
    "tabla['Frecuencia esperada'] = [round(100*p, 4) for p in probs]\n",
    "tabla "
   ]
  },
  {
   "cell_type": "markdown",
   "metadata": {},
   "source": [
    "## Agrupación (>=5)"
   ]
  },
  {
   "cell_type": "code",
   "execution_count": 10,
   "metadata": {},
   "outputs": [
    {
     "data": {
      "text/html": [
       "<div>\n",
       "<style>\n",
       "    .dataframe thead tr:only-child th {\n",
       "        text-align: right;\n",
       "    }\n",
       "\n",
       "    .dataframe thead th {\n",
       "        text-align: left;\n",
       "    }\n",
       "\n",
       "    .dataframe tbody tr th {\n",
       "        vertical-align: top;\n",
       "    }\n",
       "</style>\n",
       "<table border=\"1\" class=\"dataframe\">\n",
       "  <thead>\n",
       "    <tr style=\"text-align: right;\">\n",
       "      <th></th>\n",
       "      <th>Intervalos de llegada</th>\n",
       "      <th>Frecuencia observada</th>\n",
       "      <th>Probabilidad de ocurrencia</th>\n",
       "      <th>Frecuencia esperada</th>\n",
       "      <th>Agrupada (&gt;=5)</th>\n",
       "    </tr>\n",
       "  </thead>\n",
       "  <tbody>\n",
       "    <tr>\n",
       "      <th>0</th>\n",
       "      <td>0.000 -  0.948</td>\n",
       "      <td>56.0</td>\n",
       "      <td>0.6123</td>\n",
       "      <td>61.23</td>\n",
       "      <td></td>\n",
       "    </tr>\n",
       "    <tr>\n",
       "      <th>1</th>\n",
       "      <td>0.948 -  1.895</td>\n",
       "      <td>26.0</td>\n",
       "      <td>0.2374</td>\n",
       "      <td>23.74</td>\n",
       "      <td></td>\n",
       "    </tr>\n",
       "    <tr>\n",
       "      <th>2</th>\n",
       "      <td>1.895 -  2.843</td>\n",
       "      <td>11.0</td>\n",
       "      <td>0.0920</td>\n",
       "      <td>9.20</td>\n",
       "      <td></td>\n",
       "    </tr>\n",
       "    <tr>\n",
       "      <th>3</th>\n",
       "      <td>2.843 -  3.790</td>\n",
       "      <td>3.0</td>\n",
       "      <td>0.0357</td>\n",
       "      <td>3.57</td>\n",
       "      <td></td>\n",
       "    </tr>\n",
       "    <tr>\n",
       "      <th>4</th>\n",
       "      <td>3.790 -  4.738</td>\n",
       "      <td>2.0</td>\n",
       "      <td>0.0138</td>\n",
       "      <td>1.38</td>\n",
       "      <td></td>\n",
       "    </tr>\n",
       "    <tr>\n",
       "      <th>5</th>\n",
       "      <td>4.738 -  5.686</td>\n",
       "      <td>1.0</td>\n",
       "      <td>0.0054</td>\n",
       "      <td>0.54</td>\n",
       "      <td></td>\n",
       "    </tr>\n",
       "    <tr>\n",
       "      <th>6</th>\n",
       "      <td>5.686 -  6.633</td>\n",
       "      <td>1.0</td>\n",
       "      <td>0.0034</td>\n",
       "      <td>0.34</td>\n",
       "      <td>5.83</td>\n",
       "    </tr>\n",
       "  </tbody>\n",
       "</table>\n",
       "</div>"
      ],
      "text/plain": [
       "  Intervalos de llegada  Frecuencia observada  Probabilidad de ocurrencia  \\\n",
       "0        0.000 -  0.948                  56.0                      0.6123   \n",
       "1        0.948 -  1.895                  26.0                      0.2374   \n",
       "2        1.895 -  2.843                  11.0                      0.0920   \n",
       "3        2.843 -  3.790                   3.0                      0.0357   \n",
       "4        3.790 -  4.738                   2.0                      0.0138   \n",
       "5        4.738 -  5.686                   1.0                      0.0054   \n",
       "6        5.686 -  6.633                   1.0                      0.0034   \n",
       "\n",
       "   Frecuencia esperada Agrupada (>=5)  \n",
       "0                61.23                 \n",
       "1                23.74                 \n",
       "2                 9.20                 \n",
       "3                 3.57                 \n",
       "4                 1.38                 \n",
       "5                 0.54                 \n",
       "6                 0.34           5.83  "
      ]
     },
     "execution_count": 10,
     "metadata": {},
     "output_type": "execute_result"
    }
   ],
   "source": [
    "tabla['Agrupada (>=5)'] = ''\n",
    "tabla.loc[6, 'Agrupada (>=5)'] = sum(tabla['Frecuencia esperada'][[3, 4, 5, 6]])\n",
    "tabla"
   ]
  },
  {
   "cell_type": "markdown",
   "metadata": {},
   "source": [
    "## Chi cuadrada calculada"
   ]
  },
  {
   "cell_type": "code",
   "execution_count": 11,
   "metadata": {},
   "outputs": [
    {
     "data": {
      "text/html": [
       "<div>\n",
       "<style>\n",
       "    .dataframe thead tr:only-child th {\n",
       "        text-align: right;\n",
       "    }\n",
       "\n",
       "    .dataframe thead th {\n",
       "        text-align: left;\n",
       "    }\n",
       "\n",
       "    .dataframe tbody tr th {\n",
       "        vertical-align: top;\n",
       "    }\n",
       "</style>\n",
       "<table border=\"1\" class=\"dataframe\">\n",
       "  <thead>\n",
       "    <tr style=\"text-align: right;\">\n",
       "      <th></th>\n",
       "      <th>Intervalos de llegada</th>\n",
       "      <th>Frecuencia observada</th>\n",
       "      <th>Probabilidad de ocurrencia</th>\n",
       "      <th>Frecuencia esperada</th>\n",
       "      <th>Agrupada (&gt;=5)</th>\n",
       "      <th>Chi cuadrada</th>\n",
       "    </tr>\n",
       "  </thead>\n",
       "  <tbody>\n",
       "    <tr>\n",
       "      <th>0</th>\n",
       "      <td>0.000 -  0.948</td>\n",
       "      <td>56.0</td>\n",
       "      <td>0.6123</td>\n",
       "      <td>61.23</td>\n",
       "      <td></td>\n",
       "      <td>0.234803</td>\n",
       "    </tr>\n",
       "    <tr>\n",
       "      <th>1</th>\n",
       "      <td>0.948 -  1.895</td>\n",
       "      <td>26.0</td>\n",
       "      <td>0.2374</td>\n",
       "      <td>23.74</td>\n",
       "      <td></td>\n",
       "      <td>0.446724</td>\n",
       "    </tr>\n",
       "    <tr>\n",
       "      <th>2</th>\n",
       "      <td>1.895 -  2.843</td>\n",
       "      <td>11.0</td>\n",
       "      <td>0.0920</td>\n",
       "      <td>9.20</td>\n",
       "      <td></td>\n",
       "      <td>0.215147</td>\n",
       "    </tr>\n",
       "    <tr>\n",
       "      <th>3</th>\n",
       "      <td>2.843 -  3.790</td>\n",
       "      <td>3.0</td>\n",
       "      <td>0.0357</td>\n",
       "      <td>3.57</td>\n",
       "      <td></td>\n",
       "      <td></td>\n",
       "    </tr>\n",
       "    <tr>\n",
       "      <th>4</th>\n",
       "      <td>3.790 -  4.738</td>\n",
       "      <td>2.0</td>\n",
       "      <td>0.0138</td>\n",
       "      <td>1.38</td>\n",
       "      <td></td>\n",
       "      <td></td>\n",
       "    </tr>\n",
       "    <tr>\n",
       "      <th>5</th>\n",
       "      <td>4.738 -  5.686</td>\n",
       "      <td>1.0</td>\n",
       "      <td>0.0054</td>\n",
       "      <td>0.54</td>\n",
       "      <td></td>\n",
       "      <td></td>\n",
       "    </tr>\n",
       "    <tr>\n",
       "      <th>6</th>\n",
       "      <td>5.686 -  6.633</td>\n",
       "      <td>1.0</td>\n",
       "      <td>0.0034</td>\n",
       "      <td>0.34</td>\n",
       "      <td>5.83</td>\n",
       "      <td>0.352174</td>\n",
       "    </tr>\n",
       "  </tbody>\n",
       "</table>\n",
       "</div>"
      ],
      "text/plain": [
       "  Intervalos de llegada  Frecuencia observada  Probabilidad de ocurrencia  \\\n",
       "0        0.000 -  0.948                  56.0                      0.6123   \n",
       "1        0.948 -  1.895                  26.0                      0.2374   \n",
       "2        1.895 -  2.843                  11.0                      0.0920   \n",
       "3        2.843 -  3.790                   3.0                      0.0357   \n",
       "4        3.790 -  4.738                   2.0                      0.0138   \n",
       "5        4.738 -  5.686                   1.0                      0.0054   \n",
       "6        5.686 -  6.633                   1.0                      0.0034   \n",
       "\n",
       "   Frecuencia esperada Agrupada (>=5) Chi cuadrada  \n",
       "0                61.23                    0.234803  \n",
       "1                23.74                    0.446724  \n",
       "2                 9.20                    0.215147  \n",
       "3                 3.57                              \n",
       "4                 1.38                              \n",
       "5                 0.54                              \n",
       "6                 0.34           5.83     0.352174  "
      ]
     },
     "execution_count": 11,
     "metadata": {},
     "output_type": "execute_result"
    }
   ],
   "source": [
    "o = list(tabla['Frecuencia observada'][[0,1,2]])\n",
    "o.insert(0,sum(tabla['Frecuencia observada'][[3,4,5,6]]))\n",
    "e = list(tabla['Frecuencia esperada'][[0,1,2]])\n",
    "e.insert(0,tabla['Agrupada (>=5)'][6])\n",
    "\n",
    "\n",
    "chi = []\n",
    "for i in range(0,4):\n",
    "    chi.append(((o[i] - e[i])**2)/e[i])\n",
    "\n",
    "chi_calculada = sum(chi)\n",
    "\n",
    "chi.insert(3, '')\n",
    "chi.insert(4, '')\n",
    "chi.insert(5, '')\n",
    "\n",
    "tabla['Chi cuadrada'] = chi\n",
    "\n",
    "tabla"
   ]
  },
  {
   "cell_type": "code",
   "execution_count": 12,
   "metadata": {},
   "outputs": [
    {
     "data": {
      "text/plain": [
       "1.2488479161547124"
      ]
     },
     "execution_count": 12,
     "metadata": {},
     "output_type": "execute_result"
    }
   ],
   "source": [
    "chi_calculada"
   ]
  },
  {
   "cell_type": "markdown",
   "metadata": {},
   "source": [
    "## Chi cuadrada inversa"
   ]
  },
  {
   "cell_type": "code",
   "execution_count": 13,
   "metadata": {},
   "outputs": [
    {
     "data": {
      "text/plain": [
       "5.9914645471079817"
      ]
     },
     "execution_count": 13,
     "metadata": {},
     "output_type": "execute_result"
    }
   ],
   "source": [
    "from scipy.stats import chi2\n",
    "\n",
    "chi2.isf(.05, 2)"
   ]
  }
 ],
 "metadata": {
  "kernelspec": {
   "display_name": "Python 3",
   "language": "python",
   "name": "python3"
  },
  "language_info": {
   "codemirror_mode": {
    "name": "ipython",
    "version": 3
   },
   "file_extension": ".py",
   "mimetype": "text/x-python",
   "name": "python",
   "nbconvert_exporter": "python",
   "pygments_lexer": "ipython3",
   "version": "3.6.1"
  }
 },
 "nbformat": 4,
 "nbformat_minor": 2
}
