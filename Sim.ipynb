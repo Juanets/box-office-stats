{
 "cells": [
  {
   "cell_type": "markdown",
   "metadata": {},
   "source": [
    "## Leer los datos"
   ]
  },
  {
   "cell_type": "code",
   "execution_count": 1,
   "metadata": {},
   "outputs": [
    {
     "data": {
      "text/html": [
       "<div>\n",
       "<style>\n",
       "    .dataframe thead tr:only-child th {\n",
       "        text-align: right;\n",
       "    }\n",
       "\n",
       "    .dataframe thead th {\n",
       "        text-align: left;\n",
       "    }\n",
       "\n",
       "    .dataframe tbody tr th {\n",
       "        vertical-align: top;\n",
       "    }\n",
       "</style>\n",
       "<table border=\"1\" class=\"dataframe\">\n",
       "  <thead>\n",
       "    <tr style=\"text-align: right;\">\n",
       "      <th></th>\n",
       "      <th>Elapsed time</th>\n",
       "      <th>Lap</th>\n",
       "    </tr>\n",
       "  </thead>\n",
       "  <tbody>\n",
       "    <tr>\n",
       "      <th>0</th>\n",
       "      <td>02:07:56</td>\n",
       "      <td>00:01:25</td>\n",
       "    </tr>\n",
       "    <tr>\n",
       "      <th>1</th>\n",
       "      <td>02:06:30</td>\n",
       "      <td>00:01:23</td>\n",
       "    </tr>\n",
       "    <tr>\n",
       "      <th>2</th>\n",
       "      <td>02:05:06</td>\n",
       "      <td>00:00:18</td>\n",
       "    </tr>\n",
       "    <tr>\n",
       "      <th>3</th>\n",
       "      <td>02:04:48</td>\n",
       "      <td>00:01:06</td>\n",
       "    </tr>\n",
       "    <tr>\n",
       "      <th>4</th>\n",
       "      <td>02:03:42</td>\n",
       "      <td>00:00:32</td>\n",
       "    </tr>\n",
       "  </tbody>\n",
       "</table>\n",
       "</div>"
      ],
      "text/plain": [
       "  Elapsed time         Lap\n",
       "0     02:07:56  00:01:25  \n",
       "1     02:06:30  00:01:23  \n",
       "2     02:05:06  00:00:18  \n",
       "3     02:04:48  00:01:06  \n",
       "4     02:03:42  00:00:32  "
      ]
     },
     "execution_count": 1,
     "metadata": {},
     "output_type": "execute_result"
    }
   ],
   "source": [
    "import pandas as pd\n",
    "\n",
    "data = pd.read_csv('simulacion_oxxo.csv')\n",
    "\n",
    "data.head()"
   ]
  },
  {
   "cell_type": "markdown",
   "metadata": {},
   "source": [
    "## Dar formato a los minutos (e.g. 00:00:30 -> 0.5 minutos)"
   ]
  },
  {
   "cell_type": "code",
   "execution_count": 2,
   "metadata": {},
   "outputs": [
    {
     "data": {
      "text/html": [
       "<div>\n",
       "<style>\n",
       "    .dataframe thead tr:only-child th {\n",
       "        text-align: right;\n",
       "    }\n",
       "\n",
       "    .dataframe thead th {\n",
       "        text-align: left;\n",
       "    }\n",
       "\n",
       "    .dataframe tbody tr th {\n",
       "        vertical-align: top;\n",
       "    }\n",
       "</style>\n",
       "<table border=\"1\" class=\"dataframe\">\n",
       "  <thead>\n",
       "    <tr style=\"text-align: right;\">\n",
       "      <th></th>\n",
       "      <th>Elapsed time</th>\n",
       "      <th>Lap</th>\n",
       "      <th>Minutes</th>\n",
       "    </tr>\n",
       "  </thead>\n",
       "  <tbody>\n",
       "    <tr>\n",
       "      <th>0</th>\n",
       "      <td>02:07:56</td>\n",
       "      <td>00:01:25</td>\n",
       "      <td>1.416667</td>\n",
       "    </tr>\n",
       "    <tr>\n",
       "      <th>1</th>\n",
       "      <td>02:06:30</td>\n",
       "      <td>00:01:23</td>\n",
       "      <td>1.383333</td>\n",
       "    </tr>\n",
       "    <tr>\n",
       "      <th>2</th>\n",
       "      <td>02:05:06</td>\n",
       "      <td>00:00:18</td>\n",
       "      <td>0.300000</td>\n",
       "    </tr>\n",
       "    <tr>\n",
       "      <th>3</th>\n",
       "      <td>02:04:48</td>\n",
       "      <td>00:01:06</td>\n",
       "      <td>1.100000</td>\n",
       "    </tr>\n",
       "    <tr>\n",
       "      <th>4</th>\n",
       "      <td>02:03:42</td>\n",
       "      <td>00:00:32</td>\n",
       "      <td>0.533333</td>\n",
       "    </tr>\n",
       "  </tbody>\n",
       "</table>\n",
       "</div>"
      ],
      "text/plain": [
       "  Elapsed time         Lap   Minutes\n",
       "0     02:07:56  00:01:25    1.416667\n",
       "1     02:06:30  00:01:23    1.383333\n",
       "2     02:05:06  00:00:18    0.300000\n",
       "3     02:04:48  00:01:06    1.100000\n",
       "4     02:03:42  00:00:32    0.533333"
      ]
     },
     "execution_count": 2,
     "metadata": {},
     "output_type": "execute_result"
    }
   ],
   "source": [
    "ftr = [3600,60,1]\n",
    "\n",
    "llegadas = []\n",
    "for entrada in data['Lap']:\n",
    "    llegadas.append(sum([a*b for a,b in zip(ftr, map(int,entrada.strip().split(':')))])/60)\n",
    "\n",
    "data['Minutes'] = llegadas\n",
    "data.head()"
   ]
  },
  {
   "cell_type": "markdown",
   "metadata": {},
   "source": [
    "## Histograma"
   ]
  },
  {
   "cell_type": "code",
   "execution_count": 13,
   "metadata": {},
   "outputs": [
    {
     "data": {
      "image/png": "[encoded data removed]",
      "text/plain": [
       "<matplotlib.figure.Figure at 0x16841f77198>"
      ]
     },
     "metadata": {},
     "output_type": "display_data"
    }
   ],
   "source": [
    "%matplotlib inline\n",
    "import matplotlib.pyplot as plt\n",
    "\n",
    "freq, bins, _ = plt.hist(data['Minutes'], bins=7)"
   ]
  },
  {
   "cell_type": "markdown",
   "metadata": {},
   "source": [
    "## Media muestral"
   ]
  },
  {
   "cell_type": "code",
   "execution_count": 14,
   "metadata": {},
   "outputs": [
    {
     "data": {
      "text/plain": [
       "1.204833333333333"
      ]
     },
     "execution_count": 14,
     "metadata": {},
     "output_type": "execute_result"
    }
   ],
   "source": [
    "data['Minutes'].mean()"
   ]
  },
  {
   "cell_type": "markdown",
   "metadata": {},
   "source": [
    "## Intervalos"
   ]
  },
  {
   "cell_type": "code",
   "execution_count": 5,
   "metadata": {},
   "outputs": [
    {
     "data": {
      "text/html": [
       "<div>\n",
       "<style>\n",
       "    .dataframe thead tr:only-child th {\n",
       "        text-align: right;\n",
       "    }\n",
       "\n",
       "    .dataframe thead th {\n",
       "        text-align: left;\n",
       "    }\n",
       "\n",
       "    .dataframe tbody tr th {\n",
       "        vertical-align: top;\n",
       "    }\n",
       "</style>\n",
       "<table border=\"1\" class=\"dataframe\">\n",
       "  <thead>\n",
       "    <tr style=\"text-align: right;\">\n",
       "      <th></th>\n",
       "      <th>Intervalos de llegada</th>\n",
       "    </tr>\n",
       "  </thead>\n",
       "  <tbody>\n",
       "    <tr>\n",
       "      <th>0</th>\n",
       "      <td>0.000 -  0.810</td>\n",
       "    </tr>\n",
       "    <tr>\n",
       "      <th>1</th>\n",
       "      <td>0.810 -  1.619</td>\n",
       "    </tr>\n",
       "    <tr>\n",
       "      <th>2</th>\n",
       "      <td>1.619 -  2.429</td>\n",
       "    </tr>\n",
       "    <tr>\n",
       "      <th>3</th>\n",
       "      <td>2.429 -  3.238</td>\n",
       "    </tr>\n",
       "    <tr>\n",
       "      <th>4</th>\n",
       "      <td>3.238 -  4.048</td>\n",
       "    </tr>\n",
       "    <tr>\n",
       "      <th>5</th>\n",
       "      <td>4.048 -  4.857</td>\n",
       "    </tr>\n",
       "    <tr>\n",
       "      <th>6</th>\n",
       "      <td>4.857 -  5.667</td>\n",
       "    </tr>\n",
       "  </tbody>\n",
       "</table>\n",
       "</div>"
      ],
      "text/plain": [
       "  Intervalos de llegada\n",
       "0        0.000 -  0.810\n",
       "1        0.810 -  1.619\n",
       "2        1.619 -  2.429\n",
       "3        2.429 -  3.238\n",
       "4        3.238 -  4.048\n",
       "5        4.048 -  4.857\n",
       "6        4.857 -  5.667"
      ]
     },
     "execution_count": 5,
     "metadata": {},
     "output_type": "execute_result"
    }
   ],
   "source": [
    "tabla = pd.DataFrame()\n",
    "\n",
    "intervalos = []\n",
    "\n",
    "for i in range(1, 8):\n",
    "    int = '{0: > .3f} - {1: > .3f}'.format(bins[i-1], bins[i])\n",
    "    intervalos.append(int)\n",
    "    \n",
    "tabla['Intervalos de llegada'] = intervalos\n",
    "tabla"
   ]
  },
  {
   "cell_type": "markdown",
   "metadata": {},
   "source": [
    "## Frecuencia observada"
   ]
  },
  {
   "cell_type": "code",
   "execution_count": 6,
   "metadata": {},
   "outputs": [
    {
     "data": {
      "text/html": [
       "<div>\n",
       "<style>\n",
       "    .dataframe thead tr:only-child th {\n",
       "        text-align: right;\n",
       "    }\n",
       "\n",
       "    .dataframe thead th {\n",
       "        text-align: left;\n",
       "    }\n",
       "\n",
       "    .dataframe tbody tr th {\n",
       "        vertical-align: top;\n",
       "    }\n",
       "</style>\n",
       "<table border=\"1\" class=\"dataframe\">\n",
       "  <thead>\n",
       "    <tr style=\"text-align: right;\">\n",
       "      <th></th>\n",
       "      <th>Intervalos de llegada</th>\n",
       "      <th>Frecuencia observada</th>\n",
       "    </tr>\n",
       "  </thead>\n",
       "  <tbody>\n",
       "    <tr>\n",
       "      <th>0</th>\n",
       "      <td>0.000 -  0.810</td>\n",
       "      <td>49.0</td>\n",
       "    </tr>\n",
       "    <tr>\n",
       "      <th>1</th>\n",
       "      <td>0.810 -  1.619</td>\n",
       "      <td>24.0</td>\n",
       "    </tr>\n",
       "    <tr>\n",
       "      <th>2</th>\n",
       "      <td>1.619 -  2.429</td>\n",
       "      <td>13.0</td>\n",
       "    </tr>\n",
       "    <tr>\n",
       "      <th>3</th>\n",
       "      <td>2.429 -  3.238</td>\n",
       "      <td>9.0</td>\n",
       "    </tr>\n",
       "    <tr>\n",
       "      <th>4</th>\n",
       "      <td>3.238 -  4.048</td>\n",
       "      <td>3.0</td>\n",
       "    </tr>\n",
       "    <tr>\n",
       "      <th>5</th>\n",
       "      <td>4.048 -  4.857</td>\n",
       "      <td>1.0</td>\n",
       "    </tr>\n",
       "    <tr>\n",
       "      <th>6</th>\n",
       "      <td>4.857 -  5.667</td>\n",
       "      <td>1.0</td>\n",
       "    </tr>\n",
       "  </tbody>\n",
       "</table>\n",
       "</div>"
      ],
      "text/plain": [
       "  Intervalos de llegada  Frecuencia observada\n",
       "0        0.000 -  0.810                  49.0\n",
       "1        0.810 -  1.619                  24.0\n",
       "2        1.619 -  2.429                  13.0\n",
       "3        2.429 -  3.238                   9.0\n",
       "4        3.238 -  4.048                   3.0\n",
       "5        4.048 -  4.857                   1.0\n",
       "6        4.857 -  5.667                   1.0"
      ]
     },
     "execution_count": 6,
     "metadata": {},
     "output_type": "execute_result"
    }
   ],
   "source": [
    "tabla['Frecuencia observada'] = freq\n",
    "tabla"
   ]
  },
  {
   "cell_type": "markdown",
   "metadata": {},
   "source": [
    "## Probabilidad de ocurrencia"
   ]
  },
  {
   "cell_type": "code",
   "execution_count": 7,
   "metadata": {},
   "outputs": [
    {
     "data": {
      "text/html": [
       "<div>\n",
       "<style>\n",
       "    .dataframe thead tr:only-child th {\n",
       "        text-align: right;\n",
       "    }\n",
       "\n",
       "    .dataframe thead th {\n",
       "        text-align: left;\n",
       "    }\n",
       "\n",
       "    .dataframe tbody tr th {\n",
       "        vertical-align: top;\n",
       "    }\n",
       "</style>\n",
       "<table border=\"1\" class=\"dataframe\">\n",
       "  <thead>\n",
       "    <tr style=\"text-align: right;\">\n",
       "      <th></th>\n",
       "      <th>Intervalos de llegada</th>\n",
       "      <th>Frecuencia observada</th>\n",
       "      <th>Probabilidad de ocurrencia</th>\n",
       "    </tr>\n",
       "  </thead>\n",
       "  <tbody>\n",
       "    <tr>\n",
       "      <th>0</th>\n",
       "      <td>0.000 -  0.810</td>\n",
       "      <td>49.0</td>\n",
       "      <td>0.5549</td>\n",
       "    </tr>\n",
       "    <tr>\n",
       "      <th>1</th>\n",
       "      <td>0.810 -  1.619</td>\n",
       "      <td>24.0</td>\n",
       "      <td>0.2470</td>\n",
       "    </tr>\n",
       "    <tr>\n",
       "      <th>2</th>\n",
       "      <td>1.619 -  2.429</td>\n",
       "      <td>13.0</td>\n",
       "      <td>0.1099</td>\n",
       "    </tr>\n",
       "    <tr>\n",
       "      <th>3</th>\n",
       "      <td>2.429 -  3.238</td>\n",
       "      <td>9.0</td>\n",
       "      <td>0.0489</td>\n",
       "    </tr>\n",
       "    <tr>\n",
       "      <th>4</th>\n",
       "      <td>3.238 -  4.048</td>\n",
       "      <td>3.0</td>\n",
       "      <td>0.0218</td>\n",
       "    </tr>\n",
       "    <tr>\n",
       "      <th>5</th>\n",
       "      <td>4.048 -  4.857</td>\n",
       "      <td>1.0</td>\n",
       "      <td>0.0097</td>\n",
       "    </tr>\n",
       "    <tr>\n",
       "      <th>6</th>\n",
       "      <td>4.857 -  5.667</td>\n",
       "      <td>1.0</td>\n",
       "      <td>0.0078</td>\n",
       "    </tr>\n",
       "  </tbody>\n",
       "</table>\n",
       "</div>"
      ],
      "text/plain": [
       "  Intervalos de llegada  Frecuencia observada  Probabilidad de ocurrencia\n",
       "0        0.000 -  0.810                  49.0                      0.5549\n",
       "1        0.810 -  1.619                  24.0                      0.2470\n",
       "2        1.619 -  2.429                  13.0                      0.1099\n",
       "3        2.429 -  3.238                   9.0                      0.0489\n",
       "4        3.238 -  4.048                   3.0                      0.0218\n",
       "5        4.048 -  4.857                   1.0                      0.0097\n",
       "6        4.857 -  5.667                   1.0                      0.0078"
      ]
     },
     "execution_count": 7,
     "metadata": {},
     "output_type": "execute_result"
    }
   ],
   "source": [
    "from scipy.stats import expon\n",
    "\n",
    "probs = []\n",
    "for i in range(1,7):\n",
    "    cdf = round(expon.cdf(bins[i]) - expon.cdf(bins[i-1]), 4)\n",
    "    probs.append(cdf)\n",
    "    \n",
    "probs.append(1-sum(probs))\n",
    "\n",
    "tabla['Probabilidad de ocurrencia'] = probs\n",
    "tabla"
   ]
  },
  {
   "cell_type": "markdown",
   "metadata": {},
   "source": [
    "## Frecuencia esperada"
   ]
  },
  {
   "cell_type": "code",
   "execution_count": 8,
   "metadata": {},
   "outputs": [
    {
     "data": {
      "text/html": [
       "<div>\n",
       "<style>\n",
       "    .dataframe thead tr:only-child th {\n",
       "        text-align: right;\n",
       "    }\n",
       "\n",
       "    .dataframe thead th {\n",
       "        text-align: left;\n",
       "    }\n",
       "\n",
       "    .dataframe tbody tr th {\n",
       "        vertical-align: top;\n",
       "    }\n",
       "</style>\n",
       "<table border=\"1\" class=\"dataframe\">\n",
       "  <thead>\n",
       "    <tr style=\"text-align: right;\">\n",
       "      <th></th>\n",
       "      <th>Intervalos de llegada</th>\n",
       "      <th>Frecuencia observada</th>\n",
       "      <th>Probabilidad de ocurrencia</th>\n",
       "      <th>Frecuencia esperada</th>\n",
       "    </tr>\n",
       "  </thead>\n",
       "  <tbody>\n",
       "    <tr>\n",
       "      <th>0</th>\n",
       "      <td>0.000 -  0.810</td>\n",
       "      <td>49.0</td>\n",
       "      <td>0.5549</td>\n",
       "      <td>55.49</td>\n",
       "    </tr>\n",
       "    <tr>\n",
       "      <th>1</th>\n",
       "      <td>0.810 -  1.619</td>\n",
       "      <td>24.0</td>\n",
       "      <td>0.2470</td>\n",
       "      <td>24.70</td>\n",
       "    </tr>\n",
       "    <tr>\n",
       "      <th>2</th>\n",
       "      <td>1.619 -  2.429</td>\n",
       "      <td>13.0</td>\n",
       "      <td>0.1099</td>\n",
       "      <td>10.99</td>\n",
       "    </tr>\n",
       "    <tr>\n",
       "      <th>3</th>\n",
       "      <td>2.429 -  3.238</td>\n",
       "      <td>9.0</td>\n",
       "      <td>0.0489</td>\n",
       "      <td>4.89</td>\n",
       "    </tr>\n",
       "    <tr>\n",
       "      <th>4</th>\n",
       "      <td>3.238 -  4.048</td>\n",
       "      <td>3.0</td>\n",
       "      <td>0.0218</td>\n",
       "      <td>2.18</td>\n",
       "    </tr>\n",
       "    <tr>\n",
       "      <th>5</th>\n",
       "      <td>4.048 -  4.857</td>\n",
       "      <td>1.0</td>\n",
       "      <td>0.0097</td>\n",
       "      <td>0.97</td>\n",
       "    </tr>\n",
       "    <tr>\n",
       "      <th>6</th>\n",
       "      <td>4.857 -  5.667</td>\n",
       "      <td>1.0</td>\n",
       "      <td>0.0078</td>\n",
       "      <td>0.78</td>\n",
       "    </tr>\n",
       "  </tbody>\n",
       "</table>\n",
       "</div>"
      ],
      "text/plain": [
       "  Intervalos de llegada  Frecuencia observada  Probabilidad de ocurrencia  \\\n",
       "0        0.000 -  0.810                  49.0                      0.5549   \n",
       "1        0.810 -  1.619                  24.0                      0.2470   \n",
       "2        1.619 -  2.429                  13.0                      0.1099   \n",
       "3        2.429 -  3.238                   9.0                      0.0489   \n",
       "4        3.238 -  4.048                   3.0                      0.0218   \n",
       "5        4.048 -  4.857                   1.0                      0.0097   \n",
       "6        4.857 -  5.667                   1.0                      0.0078   \n",
       "\n",
       "   Frecuencia esperada  \n",
       "0                55.49  \n",
       "1                24.70  \n",
       "2                10.99  \n",
       "3                 4.89  \n",
       "4                 2.18  \n",
       "5                 0.97  \n",
       "6                 0.78  "
      ]
     },
     "execution_count": 8,
     "metadata": {},
     "output_type": "execute_result"
    }
   ],
   "source": [
    "tabla['Frecuencia esperada'] = [round(100*p, 4) for p in probs]\n",
    "tabla "
   ]
  },
  {
   "cell_type": "markdown",
   "metadata": {},
   "source": [
    "## Agrupación (>=5)"
   ]
  },
  {
   "cell_type": "code",
   "execution_count": 9,
   "metadata": {},
   "outputs": [
    {
     "data": {
      "text/html": [
       "<div>\n",
       "<style>\n",
       "    .dataframe thead tr:only-child th {\n",
       "        text-align: right;\n",
       "    }\n",
       "\n",
       "    .dataframe thead th {\n",
       "        text-align: left;\n",
       "    }\n",
       "\n",
       "    .dataframe tbody tr th {\n",
       "        vertical-align: top;\n",
       "    }\n",
       "</style>\n",
       "<table border=\"1\" class=\"dataframe\">\n",
       "  <thead>\n",
       "    <tr style=\"text-align: right;\">\n",
       "      <th></th>\n",
       "      <th>Intervalos de llegada</th>\n",
       "      <th>Frecuencia observada</th>\n",
       "      <th>Probabilidad de ocurrencia</th>\n",
       "      <th>Frecuencia esperada</th>\n",
       "      <th>Agrupada (&gt;=5)</th>\n",
       "    </tr>\n",
       "  </thead>\n",
       "  <tbody>\n",
       "    <tr>\n",
       "      <th>0</th>\n",
       "      <td>0.000 -  0.810</td>\n",
       "      <td>49.0</td>\n",
       "      <td>0.5549</td>\n",
       "      <td>55.49</td>\n",
       "      <td></td>\n",
       "    </tr>\n",
       "    <tr>\n",
       "      <th>1</th>\n",
       "      <td>0.810 -  1.619</td>\n",
       "      <td>24.0</td>\n",
       "      <td>0.2470</td>\n",
       "      <td>24.70</td>\n",
       "      <td></td>\n",
       "    </tr>\n",
       "    <tr>\n",
       "      <th>2</th>\n",
       "      <td>1.619 -  2.429</td>\n",
       "      <td>13.0</td>\n",
       "      <td>0.1099</td>\n",
       "      <td>10.99</td>\n",
       "      <td></td>\n",
       "    </tr>\n",
       "    <tr>\n",
       "      <th>3</th>\n",
       "      <td>2.429 -  3.238</td>\n",
       "      <td>9.0</td>\n",
       "      <td>0.0489</td>\n",
       "      <td>4.89</td>\n",
       "      <td></td>\n",
       "    </tr>\n",
       "    <tr>\n",
       "      <th>4</th>\n",
       "      <td>3.238 -  4.048</td>\n",
       "      <td>3.0</td>\n",
       "      <td>0.0218</td>\n",
       "      <td>2.18</td>\n",
       "      <td></td>\n",
       "    </tr>\n",
       "    <tr>\n",
       "      <th>5</th>\n",
       "      <td>4.048 -  4.857</td>\n",
       "      <td>1.0</td>\n",
       "      <td>0.0097</td>\n",
       "      <td>0.97</td>\n",
       "      <td></td>\n",
       "    </tr>\n",
       "    <tr>\n",
       "      <th>6</th>\n",
       "      <td>4.857 -  5.667</td>\n",
       "      <td>1.0</td>\n",
       "      <td>0.0078</td>\n",
       "      <td>0.78</td>\n",
       "      <td>8.82</td>\n",
       "    </tr>\n",
       "  </tbody>\n",
       "</table>\n",
       "</div>"
      ],
      "text/plain": [
       "  Intervalos de llegada  Frecuencia observada  Probabilidad de ocurrencia  \\\n",
       "0        0.000 -  0.810                  49.0                      0.5549   \n",
       "1        0.810 -  1.619                  24.0                      0.2470   \n",
       "2        1.619 -  2.429                  13.0                      0.1099   \n",
       "3        2.429 -  3.238                   9.0                      0.0489   \n",
       "4        3.238 -  4.048                   3.0                      0.0218   \n",
       "5        4.048 -  4.857                   1.0                      0.0097   \n",
       "6        4.857 -  5.667                   1.0                      0.0078   \n",
       "\n",
       "   Frecuencia esperada Agrupada (>=5)  \n",
       "0                55.49                 \n",
       "1                24.70                 \n",
       "2                10.99                 \n",
       "3                 4.89                 \n",
       "4                 2.18                 \n",
       "5                 0.97                 \n",
       "6                 0.78           8.82  "
      ]
     },
     "execution_count": 9,
     "metadata": {},
     "output_type": "execute_result"
    }
   ],
   "source": [
    "tabla['Agrupada (>=5)'] = ''\n",
    "tabla.loc[6, 'Agrupada (>=5)'] = sum(tabla['Frecuencia esperada'][[3, 4, 5, 6]])\n",
    "tabla"
   ]
  },
  {
   "cell_type": "markdown",
   "metadata": {},
   "source": [
    "## Chi cuadrada calculada"
   ]
  },
  {
   "cell_type": "code",
   "execution_count": 16,
   "metadata": {},
   "outputs": [
    {
     "data": {
      "text/html": [
       "<div>\n",
       "<style>\n",
       "    .dataframe thead tr:only-child th {\n",
       "        text-align: right;\n",
       "    }\n",
       "\n",
       "    .dataframe thead th {\n",
       "        text-align: left;\n",
       "    }\n",
       "\n",
       "    .dataframe tbody tr th {\n",
       "        vertical-align: top;\n",
       "    }\n",
       "</style>\n",
       "<table border=\"1\" class=\"dataframe\">\n",
       "  <thead>\n",
       "    <tr style=\"text-align: right;\">\n",
       "      <th></th>\n",
       "      <th>Intervalos de llegada</th>\n",
       "      <th>Frecuencia observada</th>\n",
       "      <th>Probabilidad de ocurrencia</th>\n",
       "      <th>Frecuencia esperada</th>\n",
       "      <th>Agrupada (&gt;=5)</th>\n",
       "      <th>Chi cuadrada</th>\n",
       "    </tr>\n",
       "  </thead>\n",
       "  <tbody>\n",
       "    <tr>\n",
       "      <th>0</th>\n",
       "      <td>0.000 -  0.810</td>\n",
       "      <td>49.0</td>\n",
       "      <td>0.5549</td>\n",
       "      <td>55.49</td>\n",
       "      <td></td>\n",
       "      <td>0.759057</td>\n",
       "    </tr>\n",
       "    <tr>\n",
       "      <th>1</th>\n",
       "      <td>0.810 -  1.619</td>\n",
       "      <td>24.0</td>\n",
       "      <td>0.2470</td>\n",
       "      <td>24.70</td>\n",
       "      <td></td>\n",
       "      <td>0.0198381</td>\n",
       "    </tr>\n",
       "    <tr>\n",
       "      <th>2</th>\n",
       "      <td>1.619 -  2.429</td>\n",
       "      <td>13.0</td>\n",
       "      <td>0.1099</td>\n",
       "      <td>10.99</td>\n",
       "      <td></td>\n",
       "      <td>0.367616</td>\n",
       "    </tr>\n",
       "    <tr>\n",
       "      <th>3</th>\n",
       "      <td>2.429 -  3.238</td>\n",
       "      <td>9.0</td>\n",
       "      <td>0.0489</td>\n",
       "      <td>4.89</td>\n",
       "      <td></td>\n",
       "      <td></td>\n",
       "    </tr>\n",
       "    <tr>\n",
       "      <th>4</th>\n",
       "      <td>3.238 -  4.048</td>\n",
       "      <td>3.0</td>\n",
       "      <td>0.0218</td>\n",
       "      <td>2.18</td>\n",
       "      <td></td>\n",
       "      <td></td>\n",
       "    </tr>\n",
       "    <tr>\n",
       "      <th>5</th>\n",
       "      <td>4.048 -  4.857</td>\n",
       "      <td>1.0</td>\n",
       "      <td>0.0097</td>\n",
       "      <td>0.97</td>\n",
       "      <td></td>\n",
       "      <td></td>\n",
       "    </tr>\n",
       "    <tr>\n",
       "      <th>6</th>\n",
       "      <td>4.857 -  5.667</td>\n",
       "      <td>1.0</td>\n",
       "      <td>0.0078</td>\n",
       "      <td>0.78</td>\n",
       "      <td>8.82</td>\n",
       "      <td>3.04222</td>\n",
       "    </tr>\n",
       "  </tbody>\n",
       "</table>\n",
       "</div>"
      ],
      "text/plain": [
       "  Intervalos de llegada  Frecuencia observada  Probabilidad de ocurrencia  \\\n",
       "0        0.000 -  0.810                  49.0                      0.5549   \n",
       "1        0.810 -  1.619                  24.0                      0.2470   \n",
       "2        1.619 -  2.429                  13.0                      0.1099   \n",
       "3        2.429 -  3.238                   9.0                      0.0489   \n",
       "4        3.238 -  4.048                   3.0                      0.0218   \n",
       "5        4.048 -  4.857                   1.0                      0.0097   \n",
       "6        4.857 -  5.667                   1.0                      0.0078   \n",
       "\n",
       "   Frecuencia esperada Agrupada (>=5) Chi cuadrada  \n",
       "0                55.49                    0.759057  \n",
       "1                24.70                   0.0198381  \n",
       "2                10.99                    0.367616  \n",
       "3                 4.89                              \n",
       "4                 2.18                              \n",
       "5                 0.97                              \n",
       "6                 0.78           8.82      3.04222  "
      ]
     },
     "execution_count": 16,
     "metadata": {},
     "output_type": "execute_result"
    }
   ],
   "source": [
    "o = list(tabla['Frecuencia observada'][[0,1,2]])\n",
    "o.append(sum(tabla['Frecuencia observada'][[3,4,5,6]]))\n",
    "\n",
    "e = list(tabla['Frecuencia esperada'][[0,1,2]])\n",
    "e.append(tabla['Agrupada (>=5)'][6])\n",
    "\n",
    "chi = []\n",
    "for i in range(0,4):\n",
    "    chi.append(((o[i] - e[i])**2)/e[i])\n",
    "\n",
    "chi_calculada = sum(chi)\n",
    "chi.insert(3, '')\n",
    "chi.insert(4, '')\n",
    "chi.insert(5, '')\n",
    "tabla['Chi cuadrada'] = chi\n",
    "\n",
    "tabla"
   ]
  },
  {
   "cell_type": "code",
   "execution_count": 11,
   "metadata": {},
   "outputs": [
    {
     "data": {
      "text/plain": [
       "4.1887337812967198"
      ]
     },
     "execution_count": 11,
     "metadata": {},
     "output_type": "execute_result"
    }
   ],
   "source": [
    "chi_calculada"
   ]
  },
  {
   "cell_type": "markdown",
   "metadata": {},
   "source": [
    "## Chi cuadrada inversa"
   ]
  },
  {
   "cell_type": "code",
   "execution_count": 12,
   "metadata": {},
   "outputs": [
    {
     "data": {
      "text/plain": [
       "5.9914645471079817"
      ]
     },
     "execution_count": 12,
     "metadata": {},
     "output_type": "execute_result"
    }
   ],
   "source": [
    "from scipy.stats import chi2\n",
    "\n",
    "chi2.isf(.05, 2)"
   ]
  }
 ],
 "metadata": {
  "kernelspec": {
   "display_name": "Python 3",
   "language": "python",
   "name": "python3"
  },
  "language_info": {
   "codemirror_mode": {
    "name": "ipython",
    "version": 3
   },
   "file_extension": ".py",
   "mimetype": "text/x-python",
   "name": "python",
   "nbconvert_exporter": "python",
   "pygments_lexer": "ipython3",
   "version": "3.6.1"
  }
 },
 "nbformat": 4,
 "nbformat_minor": 2
}
